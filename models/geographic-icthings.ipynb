{
 "cells": [
  {
   "cell_type": "markdown",
   "metadata": {
    "hide_input": true
   },
   "source": [
    "# On the cost of geographic-centric things\n",
    "\n",
    "This notebook can be used to evaluate the energy and memory efficiency of geographic forwarding for a wireless sensor network depending on the network size, density, and dynamicity.\n",
    "\n",
    "For sake of completeness, we remind here the 4 IoT reference deployments:\n",
    "\n",
    "<table style=\\\"border-color: black; border: 1px solid black; \\\">\n",
    "<tr style=\\\"border: 1px solid black;\\\"> <th style=\\\"padding: 10px; border: 1px solid black;\\\"></th>\n",
    "    <th style=\\\"padding: 10px; border: 1px solid black;\\\"> Deployment name </th>\n",
    "    <th style=\\\"padding: 10px; border: 1px solid black;\\\"> Deployment class </th>\n",
    "    <th style=\\\"padding: 10px; border: 1px solid black;\\\"> # of nodes </th>\n",
    "    <th style=\\\"padding: 10px; border: 1px solid black;\\\"> Node degree </th>\n",
    "    <th style=\\\"padding: 10px; border: 1px solid black;\\\"> Ref </th> </tr>\n",
    "<tr style=\\\"border: 1px solid black;\\\"> <th style=\\\"padding: 10px; border: 1px solid black;\\\"><em>A</em></th>\n",
    "    <th style=\\\"padding: 10px; border: 1px solid black;\\\"> Place de la Nation </th>\n",
    "    <th style=\\\"padding: 10px; border: 1px solid black;\\\"> Smart City </th>\n",
    "    <th style=\\\"padding: 10px; border: 1px solid black;\\\"> 97 </th>\n",
    "    <th style=\\\"padding: 10px; border: 1px solid black;\\\"> 3.8 </th>\n",
    "    <th style=\\\"padding: 10px; border: 1px solid black;\\\"> <a href=\"https://www.fastcompany.com/3058685/paris-is-redesigning-its-major-intersections-for-pedestrians-not-cars\">[Peters2016]</a> </th> </tr>\n",
    "<tr style=\\\"border: 1px solid black;\\\"> <th style=\\\"padding: 10px; border: 1px solid black;\\\"><em>B</em></th>\n",
    "    <th style=\\\"padding: 10px; border: 1px solid black;\\\"> Great Duck Island </th>\n",
    "    <th style=\\\"padding: 10px; border: 1px solid black;\\\"> Environmental Sensor network </th>\n",
    "    <th style=\\\"padding: 10px; border: 1px solid black;\\\"> 150 </th>\n",
    "    <th style=\\\"padding: 10px; border: 1px solid black;\\\"> 4.6 </th>\n",
    "    <th style=\\\"padding: 10px; border: 1px solid black;\\\"> <a href=\"https://people.eecs.berkeley.edu/~culler/papers/sensys04-gdi.pdf\">[Szewczyk2004]</a> </th> </tr>\n",
    "<tr style=\\\"border: 1px solid black;\\\"> <th style=\\\"padding: 10px; border: 1px solid black;\\\"><em>C</em></th>\n",
    "    <th style=\\\"padding: 10px; border: 1px solid black;\\\"> CASAS </th>\n",
    "    <th style=\\\"padding: 10px; border: 1px solid black;\\\"> Home automation </th>\n",
    "    <th style=\\\"padding: 10px; border: 1px solid black;\\\"> 30 </th>\n",
    "    <th style=\\\"padding: 10px; border: 1px solid black;\\\"> 8 </th>\n",
    "    <th style=\\\"padding: 10px; border: 1px solid black;\\\"> <a href=\"https://www.ncbi.nlm.nih.gov/pmc/articles/PMC3886862/\">[Cook2012]</a> </th> </tr>\n",
    "<tr style=\\\"border: 1px solid black;\\\"> <th style=\\\"padding: 10px; border: 1px solid black;\\\"><em>D</em></th>\n",
    "    <th style=\\\"padding: 10px; border: 1px solid black;\\\"> Sensor Andrew </th>\n",
    "    <th style=\\\"padding: 10px; border: 1px solid black;\\\"> Building automation </th>\n",
    "    <th style=\\\"padding: 10px; border: 1px solid black;\\\"> 1000 </th>\n",
    "    <th style=\\\"padding: 10px; border: 1px solid black;\\\"> 15 </th>\n",
    "    <th style=\\\"padding: 10px; border: 1px solid black;\\\"> <a href=\"https://dl.acm.org/citation.cfm?id=2001047\">[Rowe2011]</a> </th> </tr>\n",
    "</table>"
   ]
  },
  {
   "cell_type": "markdown",
   "metadata": {},
   "source": [
    "## Memory and CPU consuption\n",
    "\n",
    "In a first step, we look at the memory and CPU consumption for both F&L name-based forwarding and for GPSR-based geographic forwarding.\n",
    "\n"
   ]
  },
  {
   "cell_type": "code",
   "execution_count": 1,
   "metadata": {
    "hide_input": true,
    "scrolled": true
   },
   "outputs": [
    {
     "data": {
      "application/vnd.jupyter.widget-view+json": {
       "model_id": "2f6abc25cc514a02ba05ea88294ae822",
       "version_major": 2,
       "version_minor": 0
      },
      "text/plain": [
       "VkJveChjaGlsZHJlbj0oSFRNTCh2YWx1ZT11JzxoND5EZXBsb3ltZW50IHBhcmFtZXRlcnM8L2g0PicpLCBIQm94KGNoaWxkcmVuPShGbG9hdFNsaWRlcih2YWx1ZT04LjAsIGRlc2NyaXB0aW/igKY=\n"
      ]
     },
     "metadata": {},
     "output_type": "display_data"
    },
    {
     "data": {
      "application/vnd.jupyter.widget-view+json": {
       "model_id": "ca3ef8955e5940a1b19a9b5c89ac4a96",
       "version_major": 2,
       "version_minor": 0
      },
      "text/plain": [
       "Output()"
      ]
     },
     "metadata": {},
     "output_type": "display_data"
    }
   ],
   "source": [
    "from ipywidgets import *\n",
    "from comp_mem_notebook import *\n",
    "\n",
    "style = {'description_width': 'initial'}\n",
    "d=FloatSlider(min=4, max=15, step=1, value=8, description=\"Network density\", style=style)\n",
    "n=IntSlider(min=10, max=2000, step=1, value=100, description=\"Number of nodes\", style=style)\n",
    "sloc=Dropdown(\n",
    "    options={'1': 1, '2': 2, '4': 4, '8': 8},\n",
    "    value=8,\n",
    "    description='$s_{loc}$ (bytes)',\n",
    ")\n",
    "\n",
    "ex_a=ToggleButton(value=False, description='A', disabled=False)\n",
    "ex_b=ToggleButton(value=False, description='B', disabled=False)\n",
    "ex_c=ToggleButton(value=False, description='C', disabled=False)\n",
    "ex_d=ToggleButton(value=False, description='D', disabled=False)\n",
    "\n",
    "\n",
    "def enable_checkbox (checkbox):\n",
    "    ex_a.value=False\n",
    "    ex_b.value=False\n",
    "    ex_c.value=False\n",
    "    ex_d.value=False\n",
    "    if checkbox is not None:\n",
    "        checkbox.value=True\n",
    "\n",
    "A = (97,4)\n",
    "B = (150,5)\n",
    "C = (30,8)\n",
    "D = (1000,15)\n",
    "\n",
    "def check_ex (*args):\n",
    "    if (n.value,d.value) == A:\n",
    "        enable_checkbox(ex_a)\n",
    "    elif (n.value,d.value) == B:\n",
    "        enable_checkbox(ex_b)\n",
    "    elif (n.value,d.value) == C:\n",
    "        enable_checkbox(ex_c)\n",
    "    elif (n.value,d.value) == D:\n",
    "        enable_checkbox(ex_d)\n",
    "    else:\n",
    "        enable_checkbox(None)\n",
    "\n",
    "d.observe(check_ex,'value')\n",
    "n.observe(check_ex,'value')\n",
    "\n",
    "def ex_a_func (*args):\n",
    "    if ex_a.value == True:\n",
    "        d.value = 4\n",
    "        n.value = 97\n",
    "\n",
    "def ex_b_func (*args):\n",
    "    if ex_b.value == True:\n",
    "        d.value = 5\n",
    "        n.value = 150\n",
    "\n",
    "def ex_c_func (*args):\n",
    "    if ex_c.value == True:\n",
    "        d.value = 8\n",
    "        n.value = 30\n",
    "\n",
    "def ex_d_func (*args):\n",
    "    if ex_d.value == True:\n",
    "        d.value = 15\n",
    "        n.value = 1000\n",
    "\n",
    "ex_a.observe(ex_a_func, 'value')\n",
    "ex_b.observe(ex_b_func, 'value')\n",
    "ex_c.observe(ex_c_func, 'value')\n",
    "ex_d.observe(ex_d_func, 'value')\n",
    "\n",
    "ex_box = VBox([HTML(\"<h4>Deployment parameters</h4>\"),\n",
    "               HBox([d, n, sloc]),\n",
    "               HBox([HTML(\"<b>Reference example:</b> (see Sec. II)\"),ex_a, ex_b, ex_c, ex_d])])\n",
    "\n",
    "def memcpu(density, number_of_nodes, sloc, _a, _b, _c, _d):\n",
    "    mem_mpr = mem_cost(number_of_nodes)\n",
    "    mem_geo = mem_cost_geo(number_of_nodes, density, sloc)\n",
    "    \n",
    "    lowest_style = \"<span style=\\\"color:green; background-color: #ffffff; font-weight:bold;\\\">{}</span>\"\n",
    "    \n",
    "    if mem_mpr > mem_geo:\n",
    "        mem_geo=lowest_style.format(mem_geo)\n",
    "    elif mem_mpr < mem_geo:\n",
    "        mem_mpr=lowest_style.format(mem_mpr)\n",
    "    \n",
    "    comp_mpr = \"{:2.2f}\".format(fwd_cost(number_of_nodes))\n",
    "    comp_geo = \"{:2.2f}\".format(fwd_cost_geo(density))\n",
    "    \n",
    "    if comp_mpr > comp_geo:\n",
    "        comp_geo=lowest_style.format(comp_geo)\n",
    "    elif comp_mpr < comp_geo:\n",
    "        comp_mpr = lowest_style.format(comp_mpr)\n",
    "    \n",
    "    display(HTML(\"<h4>Results</h4>\"))\n",
    "    display(HTML(\"\"\"\n",
    "    <table style=\\\"border-color: black; border: 1px solid black; \\\">\n",
    "        <tr style=\\\"border: 1px solid black;\\\"> <th style=\\\"padding: 10px; border: 1px solid black;\\\">      </th><th style=\\\"padding: 10px; border: 1px solid black;\\\">Required memory</th><th style=\\\"padding: 10px; border: 1px solid black;\\\">Computation cost   </th> </tr>\n",
    "        <tr style=\\\"border: 1px solid black;\\\"> <th style=\\\"padding: 10px; border: 1px solid black;\\\"> GPSR </th><td style=\\\"padding: 10px; border: 1px solid black;\\\"> {gpsrmem} B   </td><td style=\\\"padding: 10px; border: 1px solid black;\\\"> {gpsrcomp} J  </td></tr>\n",
    "        <tr style=\\\"border: 1px solid black;\\\"> <th style=\\\"padding: 10px; border: 1px solid black;\\\"> MPR  </th><td style=\\\"padding: 10px; border: 1px solid black;\\\"> {mprmem} B    </td><td style=\\\"padding: 10px; border: 1px solid black;\\\"> {mprcomp} J   </td></tr>\n",
    "    </table>\"\"\".format(gpsrmem=mem_geo, gpsrcomp=comp_geo, mprmem=mem_mpr, mprcomp=comp_mpr)))\n",
    "\n",
    "ou = interactive_output(memcpu, { 'density':d, 'number_of_nodes':n, 'sloc': sloc,\n",
    "                            '_a':ex_a, '_b': ex_b, '_c': ex_c, '_d': ex_d}\n",
    "                       )\n",
    "\n",
    "display(ex_box, ou)"
   ]
  },
  {
   "cell_type": "markdown",
   "metadata": {},
   "source": [
    "## Energy consumption\n",
    "\n",
    "The performance of a forwarding strategy depends on many parameters: obviously size and density of the network, but also dynamicity, average hop-count or payload size.\n",
    "\n",
    "Using this tool, you can set up your own parameters to test whether MPR or geographic forwarding yiels the best energy consumption for your network.\n",
    "\n",
    "You can also use the references IoT deployments settings directly \n",
    "\n",
    "### Per interest-data exchange\n",
    "\n",
    "In a first step, we explore how much energy is used by an on-path node to forward a single interest/data exchange."
   ]
  },
  {
   "cell_type": "code",
   "execution_count": 2,
   "metadata": {
    "hide_input": true,
    "scrolled": false
   },
   "outputs": [
    {
     "data": {
      "application/vnd.jupyter.widget-view+json": {
       "model_id": "e58728ef31714765a319a7475b2a630e",
       "version_major": 2,
       "version_minor": 0
      },
      "text/plain": [
       "VkJveChjaGlsZHJlbj0oSFRNTCh2YWx1ZT11JzxoND5EZXBsb3ltZW50IHBhcmFtZXRlcnM8L2g0PicpLCBIQm94KGNoaWxkcmVuPShGbG9hdFNsaWRlcih2YWx1ZT04LjAsIGRlc2NyaXB0aW/igKY=\n"
      ]
     },
     "metadata": {},
     "output_type": "display_data"
    },
    {
     "data": {
      "application/vnd.jupyter.widget-view+json": {
       "model_id": "8d47459cad724ad5b462d23b07fb6030",
       "version_major": 2,
       "version_minor": 0
      },
      "text/plain": [
       "Output()"
      ]
     },
     "metadata": {},
     "output_type": "display_data"
    }
   ],
   "source": [
    "import matplotlib.pyplot as plt\n",
    "from energy_cost_notebook import *\n",
    "\n",
    "style = {'description_width': 'initial'}\n",
    "d=FloatSlider(min=4, max=15, step=1, value=8, description=\"Network density\", style=style)\n",
    "n=IntSlider(min=10, max=2000, step=1, value=100, description=\"Number of nodes\", style=style)\n",
    "sloc=Dropdown(\n",
    "    options={'1': 1, '2': 2, '4': 4, '8': 8},\n",
    "    value=8,\n",
    "    description='$s_{loc}$ (bytes)',\n",
    ")\n",
    "pay=IntSlider(min=1, max=48, value=32, description=\"Payload size (bytes)\", style=style)\n",
    "\n",
    "ex_a=ToggleButton(value=False, description='A', disabled=False)\n",
    "ex_b=ToggleButton(value=False, description='B', disabled=False)\n",
    "ex_c=ToggleButton(value=False, description='C', disabled=False)\n",
    "ex_d=ToggleButton(value=False, description='D', disabled=False)\n",
    "\n",
    "\n",
    "def enable_checkbox (checkbox):\n",
    "    ex_a.value=False\n",
    "    ex_b.value=False\n",
    "    ex_c.value=False\n",
    "    ex_d.value=False\n",
    "    if checkbox is not None:\n",
    "        checkbox.value=True\n",
    "\n",
    "A = (97,4)\n",
    "B = (150,5)\n",
    "C = (30,8)\n",
    "D = (1000,15)\n",
    "\n",
    "def check_ex (*args):\n",
    "    if (n.value,d.value) == A:\n",
    "        enable_checkbox(ex_a)\n",
    "    elif (n.value,d.value) == B:\n",
    "        enable_checkbox(ex_b)\n",
    "    elif (n.value,d.value) == C:\n",
    "        enable_checkbox(ex_c)\n",
    "    elif (n.value,d.value) == D:\n",
    "        enable_checkbox(ex_d)\n",
    "    else:\n",
    "        enable_checkbox(None)\n",
    "\n",
    "d.observe(check_ex,'value')\n",
    "n.observe(check_ex,'value')\n",
    "\n",
    "def ex_a_func (*args):\n",
    "    if ex_a.value == True:\n",
    "        d.value = 4\n",
    "        n.value = 97\n",
    "\n",
    "def ex_b_func (*args):\n",
    "    if ex_b.value == True:\n",
    "        d.value = 5\n",
    "        n.value = 150\n",
    "\n",
    "def ex_c_func (*args):\n",
    "    if ex_c.value == True:\n",
    "        d.value = 8\n",
    "        n.value = 30\n",
    "\n",
    "def ex_d_func (*args):\n",
    "    if ex_d.value == True:\n",
    "        d.value = 15\n",
    "        n.value = 1000\n",
    "\n",
    "ex_a.observe(ex_a_func, 'value')\n",
    "ex_b.observe(ex_b_func, 'value')\n",
    "ex_c.observe(ex_c_func, 'value')\n",
    "ex_d.observe(ex_d_func, 'value')\n",
    "\n",
    "ex_box = VBox([HTML(\"<h4>Deployment parameters</h4>\"),\n",
    "               HBox([d, n]),\n",
    "               HBox([pay, sloc]),\n",
    "               HBox([HTML(\"<b>Reference example:</b> (see Sec. II)\"),ex_a, ex_b, ex_c, ex_d])])\n",
    "\n",
    "def barplot(density, number_of_nodes, payload_size, sloc, _a, _b, _c, _d):\n",
    "    comm_cost = nb_tries_per_message(pc[density])*communication_cost(icn_int_packet_size(number_of_nodes) + icn_cnt_packet_size(number_of_nodes, payload_size))\n",
    "    crypto_cost = crypto_cost_uj(icn_int_packet_size(number_of_nodes))+crypto_cost_uj(icn_cnt_packet_size(number_of_nodes, payload_size))\n",
    "    fwd_cost= COST_FIB_UJ*fib_size(number_of_nodes)+INTERCEPT_FIB_UJ\n",
    "\n",
    "    comm_cost_geo = nb_tries_per_message(pc[density])*communication_cost(icn_geo_int_packet_size(number_of_nodes, sloc) + icn_cnt_packet_size(number_of_nodes, payload_size))\n",
    "    crypto_cost_geo = crypto_cost_uj(icn_geo_int_packet_size(number_of_nodes, sloc))+crypto_cost_uj(icn_cnt_packet_size(number_of_nodes, payload_size))\n",
    "    fwd_cost_geo = COST_NEIGH_UJ*density+INTERCEPT_NEIGH_UJ\n",
    "    \n",
    "    hdr_cost = 2*HDR_802154_LEN*(COST_RX_UJ+COST_TX_UJ)*nb_tries_per_message(pc[density])\n",
    "    \n",
    "    display(HTML(\"<h4>Results</h4>\"))\n",
    "    total_mpr_cost = comm_cost + crypto_cost + fwd_cost + hdr_cost\n",
    "    total_geo_cost = comm_cost_geo + crypto_cost_geo + fwd_cost_geo + hdr_cost\n",
    "    \n",
    "    print(\"Energy cost of forwarding an Interest/Data exchange for MPR: {}J\".format(total_mpr_cost))\n",
    "    print(\"Energy cost of forwarding an Interest/Data exchange for GPSR: {}J\".format(total_geo_cost))\n",
    "    \n",
    "    if total_mpr_cost > total_geo_cost:\n",
    "        print(\"GPSR is more efficient by {:2.2f}%\".format((total_mpr_cost-total_geo_cost)*100/total_geo_cost))\n",
    "    else:\n",
    "        print(\"MPR is more efficient by {:2.2f}%\".format((total_geo_cost-total_mpr_cost)*100/total_mpr_cost))\n",
    "    fig = plt.figure()\n",
    "    ax = fig.gca()\n",
    "    \n",
    "    ind = [1,2]\n",
    "    width = .3\n",
    "    ax.set_ylabel(r\"Energy cost ($\\mu J$)\") \n",
    "    hdr_arr = 2*HDR_802154_LEN*(COST_RX_UJ+COST_TX_UJ)*nb_tries_per_message(pc[density])\n",
    "    hdr = ax.bar(ind[0], hdr_arr, width, color='w', hatch=\"//\", edgecolor='black', bottom=comm_cost)       \n",
    "    comm = ax.bar(ind[0], comm_cost, width, color='w', edgecolor='black')                                                     \n",
    "    crypto = ax.bar(ind[0], crypto_cost, width, hdr_arr+comm_cost, color='grey', edgecolor='black')\n",
    "    fwd = ax.bar(ind[0], fwd_cost, width, bottom=crypto_cost+comm_cost+hdr_arr, color='black')\n",
    "                                \n",
    "    hdr_geo = ax.bar(ind[1], hdr_arr, width, color='w', hatch=\"//\", edgecolor='black', bottom=comm_cost_geo)       \n",
    "    comm_geo = ax.bar(ind[1], comm_cost_geo, width, color='w', edgecolor='black')                                                     \n",
    "    crypto_geo = ax.bar(ind[1], crypto_cost_geo, width, hdr_arr+comm_cost_geo, color='grey', edgecolor='black')\n",
    "    fwd_geo = ax.bar(ind[1], fwd_cost_geo, width, bottom=crypto_cost_geo+comm_cost_geo+hdr_arr, color='black')\n",
    "    \n",
    "    ax.set_xticks(ind)\n",
    "    ax.set_xticklabels([\"MPR\", \"Geo\"])\n",
    "    \n",
    "    plt.legend([comm[0], hdr[0], crypto[0], fwd[0]],('Comm. (L3)','Comm. (L2 hdr)','Crypto','Fwd'),\n",
    "               loc='upper center', bbox_to_anchor=(0,1.15,1,0.102), ncol=4, columnspacing=0.8, handletextpad=0.4)\n",
    "    \n",
    "\n",
    "ou = interactive_output(barplot, { 'density':d, 'number_of_nodes':n, 'sloc': sloc, 'payload_size': pay,\n",
    "                            '_a':ex_a, '_b': ex_b, '_c': ex_c, '_d': ex_d}\n",
    "                       )\n",
    "\n",
    "display(ex_box, ou)\n"
   ]
  },
  {
   "cell_type": "markdown",
   "metadata": {},
   "source": [
    "### Using the full model to compare MPR F&L and geographic forwarding\n",
    "\n",
    "We know provide a tool to derive the global message budget for the network, depending on whether the user chose geographic forwarding or MPR Flood-&-Learn"
   ]
  },
  {
   "cell_type": "code",
   "execution_count": 3,
   "metadata": {
    "hide_input": true,
    "scrolled": true
   },
   "outputs": [
    {
     "data": {
      "application/vnd.jupyter.widget-view+json": {
       "model_id": "c2755fa3a1384b7cb72f9f722a90e2d9",
       "version_major": 2,
       "version_minor": 0
      },
      "text/plain": [
       "VkJveChjaGlsZHJlbj0oSFRNTCh2YWx1ZT11JzxoND5EZXBsb3ltZW50IHBhcmFtZXRlcnM8L2g0PicpLCBIQm94KGNoaWxkcmVuPShGbG9hdFNsaWRlcih2YWx1ZT04LjAsIGRlc2NyaXB0aW/igKY=\n"
      ]
     },
     "metadata": {},
     "output_type": "display_data"
    },
    {
     "data": {
      "application/vnd.jupyter.widget-view+json": {
       "model_id": "f1051cf3c79b4b40b925b92fd1db2b95",
       "version_major": 2,
       "version_minor": 0
      },
      "text/plain": [
       "Output()"
      ]
     },
     "metadata": {},
     "output_type": "display_data"
    }
   ],
   "source": [
    "from model_result_notebook import *\n",
    "\n",
    "def f(density,number_of_nodes,change_freq, sloc, ttl, payload_size, _a, _b, _c, _d):\n",
    "    display(HTML(\"<h4>Results</h4>\"))\n",
    "    geo = geo_energy_capacity(number_of_nodes, density, change_freq, sloc=sloc, ttl=ttl, payload_size=payload_size)\n",
    "    mpr = mpr_energy_capacity(number_of_nodes,density,change_freq, ttl=ttl, payload_size=payload_size)\n",
    "    print(\"Message budget with MPR: {:2.0f} messages\".format(mpr))\n",
    "    print(\"Message budget with geographic forwarding: {:2.0f} messages\".format(geo))\n",
    "    \n",
    "    if geo > mpr:\n",
    "        display(HTML(\"<b>Geographic forwarding</b> is the most efficient in these settings by {:2.2f}%\".format(100*(geo-mpr)/geo)))\n",
    "    else:\n",
    "        display(HTML(\"<b>MPR F&L</b> is the most efficient in these settings by {:2.2f}%\".format(100*(mpr-geo)/mpr)))\n",
    "    \n",
    "style = {'description_width': 'initial'}\n",
    "d=FloatSlider(min=4, max=15, step=1, value=8, description=\"Network density\", style=style)\n",
    "n=IntSlider(min=10, max=2000, step=1, value=100, description=\"Number of nodes\", style=style)\n",
    "#f=FloatSlider(min=1, max=10, step=.1, value=3, description=\"Change freq. ($\\log_{10}$)\",style=style)\n",
    "fc=FloatText(value=60, description=\"Change frequency\", style=style)\n",
    "ttl=IntSlider(min=1, max=14, value=4, description=\"Avg hop count\", style=style)\n",
    "sloc=Dropdown(\n",
    "    options={'1': 1, '2': 2, '4': 4, '8': 8},\n",
    "    value=8,\n",
    "    description='$s_{loc}$ (bytes)',\n",
    ")\n",
    "pay=IntSlider(min=1, max=48, value=32, description=\"Payload size (bytes)\", style=style)\n",
    "\n",
    "ex_a=ToggleButton(value=False, description='A', disabled=False)\n",
    "ex_b=ToggleButton(value=False, description='B', disabled=False)\n",
    "ex_c=ToggleButton(value=False, description='C', disabled=False)\n",
    "ex_d=ToggleButton(value=False, description='D', disabled=False)\n",
    "\n",
    "\n",
    "def enable_checkbox (checkbox):\n",
    "    ex_a.value=False\n",
    "    ex_b.value=False\n",
    "    ex_c.value=False\n",
    "    ex_d.value=False\n",
    "    if checkbox is not None:\n",
    "        checkbox.value=True\n",
    "\n",
    "A = (97,4)\n",
    "B = (150,5)\n",
    "C = (30,8)\n",
    "D = (1000,15)\n",
    "\n",
    "def check_ex (*args):\n",
    "    if (n.value,d.value) == A:\n",
    "        enable_checkbox(ex_a)\n",
    "    elif (n.value,d.value) == B:\n",
    "        enable_checkbox(ex_b)\n",
    "    elif (n.value,d.value) == C:\n",
    "        enable_checkbox(ex_c)\n",
    "    elif (n.value,d.value) == D:\n",
    "        enable_checkbox(ex_d)\n",
    "    else:\n",
    "        enable_checkbox(None)\n",
    "\n",
    "d.observe(check_ex,'value')\n",
    "n.observe(check_ex,'value')\n",
    "\n",
    "def ex_a_func (*args):\n",
    "    if ex_a.value == True:\n",
    "        d.value = 4\n",
    "        n.value = 97\n",
    "\n",
    "def ex_b_func (*args):\n",
    "    if ex_b.value == True:\n",
    "        d.value = 5\n",
    "        n.value = 150\n",
    "\n",
    "def ex_c_func (*args):\n",
    "    if ex_c.value == True:\n",
    "        d.value = 8\n",
    "        n.value = 30\n",
    "\n",
    "def ex_d_func (*args):\n",
    "    if ex_d.value == True:\n",
    "        d.value = 15\n",
    "        n.value = 1000\n",
    "\n",
    "ex_a.observe(ex_a_func, 'value')\n",
    "ex_b.observe(ex_b_func, 'value')\n",
    "ex_c.observe(ex_c_func, 'value')\n",
    "ex_d.observe(ex_d_func, 'value')\n",
    "\n",
    "ex_box = VBox([HTML(\"<h4>Deployment parameters</h4>\"),\n",
    "               HBox([d, n, fc]),\n",
    "               HBox([ttl, pay, sloc]),\n",
    "               HBox([HTML(\"<b>Reference example:</b> (see Sec. II)\"),ex_a, ex_b, ex_c, ex_d])])\n",
    "\n",
    "ou = interactive_output(f, { 'density':d, 'number_of_nodes':n, 'change_freq':fc,\n",
    "                            'sloc': sloc, 'ttl': ttl, 'payload_size': pay,\n",
    "                            '_a':ex_a, '_b': ex_b, '_c': ex_c, '_d': ex_d}\n",
    "                       )\n",
    "\n",
    "display(ex_box, ou)"
   ]
  },
  {
   "cell_type": "markdown",
   "metadata": {},
   "source": [
    "### Per parameter approach\n",
    "\n",
    "In this section, we focus on the impact of each parameter. Chose first a parameter to vary, then setup the other ones to see how the energy efficiency of each strategy vary with your chosen parameter"
   ]
  },
  {
   "cell_type": "code",
   "execution_count": 4,
   "metadata": {
    "hide_input": true
   },
   "outputs": [
    {
     "data": {
      "application/vnd.jupyter.widget-view+json": {
       "model_id": "5285ce9f36604bdab792f6e6d0e19413",
       "version_major": 2,
       "version_minor": 0
      },
      "text/plain": [
       "VkJveChjaGlsZHJlbj0oSFRNTCh2YWx1ZT11JzxoND5EZXBsb3ltZW50IHBhcmFtZXRlcnM8L2g0PicpLCBIQm94KGNoaWxkcmVuPShEcm9wZG93bihkZXNjcmlwdGlvbj11J1BhcmFtZXRlciDigKY=\n"
      ]
     },
     "metadata": {},
     "output_type": "display_data"
    },
    {
     "data": {
      "application/vnd.jupyter.widget-view+json": {
       "model_id": "e7c5be3bc08f4c6eabccfef84b9b175c",
       "version_major": 2,
       "version_minor": 0
      },
      "text/plain": [
       "Output()"
      ]
     },
     "metadata": {},
     "output_type": "display_data"
    }
   ],
   "source": [
    "parameter=Dropdown(options={\"Network density\": 0,\n",
    "                    \"Number of nodes\": 1,\n",
    "                    \"Change frequency\": 2,\n",
    "                    \"Average hop count\": 3,\n",
    "                    \"Payload size\": 4,\n",
    "                    \"Coordinates size\": 5},\n",
    "                  value=2,\n",
    "                  description=\"Parameter to vary\")\n",
    "\n",
    "style = {'description_width': 'initial'}\n",
    "d=FloatSlider(min=4, max=15, step=1, value=8, description=\"Network density\", style=style)\n",
    "n=IntSlider(min=10, max=2000, step=1, value=100, description=\"Number of nodes\", style=style)\n",
    "fc=FloatText(value=60, description=\"Change frequency\", style=style, disable=True)\n",
    "ttl=IntSlider(min=1, max=14, value=4, description=\"Avg hop count\", style=style)\n",
    "sloc=Dropdown(\n",
    "    options={'1': 1, '2': 2, '4': 4, '8': 8},\n",
    "    value=8,\n",
    "    description='$s_{loc}$ (bytes)',\n",
    "    disable=True\n",
    ")\n",
    "pay=IntSlider(min=1, max=48, value=32, description=\"Payload size (bytes)\", style=style)\n",
    "\n",
    "ex_a=ToggleButton(value=False, description='A', disabled=False)\n",
    "ex_b=ToggleButton(value=False, description='B', disabled=False)\n",
    "ex_c=ToggleButton(value=False, description='C', disabled=False)\n",
    "ex_d=ToggleButton(value=False, description='D', disabled=False)\n",
    "\n",
    "\n",
    "def enable_checkbox (checkbox):\n",
    "    ex_a.value=False\n",
    "    ex_b.value=False\n",
    "    ex_c.value=False\n",
    "    ex_d.value=False\n",
    "    if checkbox is not None:\n",
    "        checkbox.value=True\n",
    "\n",
    "A = (97,4)\n",
    "B = (150,5)\n",
    "C = (30,8)\n",
    "D = (1000,15)\n",
    "\n",
    "def check_ex (*args):\n",
    "    if (n.value,d.value) == A:\n",
    "        enable_checkbox(ex_a)\n",
    "    elif (n.value,d.value) == B:\n",
    "        enable_checkbox(ex_b)\n",
    "    elif (n.value,d.value) == C:\n",
    "        enable_checkbox(ex_c)\n",
    "    elif (n.value,d.value) == D:\n",
    "        enable_checkbox(ex_d)\n",
    "    else:\n",
    "        enable_checkbox(None)\n",
    "\n",
    "d.observe(check_ex,'value')\n",
    "n.observe(check_ex,'value')\n",
    "\n",
    "def ex_a_func (*args):\n",
    "    if ex_a.value == True:\n",
    "        d.value = 4\n",
    "        n.value = 97\n",
    "\n",
    "def ex_b_func (*args):\n",
    "    if ex_b.value == True:\n",
    "        d.value = 5\n",
    "        n.value = 150\n",
    "\n",
    "def ex_c_func (*args):\n",
    "    if ex_c.value == True:\n",
    "        d.value = 8\n",
    "        n.value = 30\n",
    "\n",
    "def ex_d_func (*args):\n",
    "    if ex_d.value == True:\n",
    "        d.value = 15\n",
    "        n.value = 1000\n",
    "\n",
    "ex_a.observe(ex_a_func, 'value')\n",
    "ex_b.observe(ex_b_func, 'value')\n",
    "ex_c.observe(ex_c_func, 'value')\n",
    "ex_d.observe(ex_d_func, 'value')\n",
    "\n",
    "def parameter_func(option):\n",
    "    d.disabled=False\n",
    "    n.disabled=False\n",
    "    fc.disabled=False\n",
    "    ttl.disabled=False\n",
    "    pay.disabled=False\n",
    "    sloc.disabled=False\n",
    "    if option==0:\n",
    "        d.disabled=True\n",
    "    elif option ==1:\n",
    "        n.disabled=True\n",
    "    elif option ==2:\n",
    "        fc.disabled=True\n",
    "    elif option ==3:\n",
    "        ttl.disabled=True\n",
    "    elif option ==4:\n",
    "        pay.disabled=True\n",
    "    elif option ==5:\n",
    "        sloc.disabled=True\n",
    "\n",
    "from matplotlib.ticker import FuncFormatter\n",
    "formatter = FuncFormatter(lambda x,y : '%dM' % (x*1e-6) if x!=0 else '') \n",
    "\n",
    "def plot_function(option, d, n, fc, ttl, pay, sloc, _a, _b, _c, _d):\n",
    "    plt.figure()\n",
    "    parameter_func(option)\n",
    "    if option==0:\n",
    "        keys = np.arange(4,15)\n",
    "        plt.plot(keys, \n",
    "                 np.vectorize(lambda x : geo_energy_capacity(n, x, fc, sloc=sloc, ttl=ttl, payload_size=pay))(keys),\n",
    "                 linestyle='dotted', label='Geographic forwarding')\n",
    "        plt.plot(keys, \n",
    "                 np.vectorize(lambda x : mpr_energy_capacity(n, x, fc, ttl=ttl, payload_size=pay))(keys),\n",
    "                 linestyle='solid', label='MPR F\\&L')\n",
    "        plt.xlim([4,14])\n",
    "        plt.xlabel(\"Average network density\")\n",
    "    elif option==1:\n",
    "        keys=np.arange(10,2000)\n",
    "        plt.plot(keys, \n",
    "                 np.vectorize(lambda x : geo_energy_capacity(x, d, fc, sloc=sloc, ttl=ttl, payload_size=pay))(keys),\n",
    "                 linestyle='dotted', label='Geographic forwarding')\n",
    "        plt.plot(keys, \n",
    "                 np.vectorize(lambda x : mpr_energy_capacity(x, d, fc, ttl=ttl, payload_size=pay))(keys),\n",
    "                 linestyle='solid', label='MPR F\\&L')\n",
    "        plt.xlim(10,2000)\n",
    "        plt.xlabel(\"Network size\")\n",
    "    elif option==2:\n",
    "        keys=np.arange(1,10**4)\n",
    "        plt.plot(keys, \n",
    "                 np.vectorize(lambda x : geo_energy_capacity(n, d, x, sloc=sloc, ttl=ttl, payload_size=pay))(keys),\n",
    "                 linestyle='dotted', label='Geographic forwarding')\n",
    "        plt.plot(keys, \n",
    "                 np.vectorize(lambda x : mpr_energy_capacity(n, d, x, ttl=ttl, payload_size=pay))(keys),\n",
    "                 linestyle='solid', label='MPR F\\&L')\n",
    "        plt.xlim(1, 10**4)\n",
    "        plt.xscale(\"log\")\n",
    "        plt.xlabel(\"Number of readings between two route changes\")\n",
    "    elif option==3:\n",
    "        keys=np.arange(1,14)\n",
    "        plt.plot(keys, \n",
    "                 np.vectorize(lambda x : geo_energy_capacity(n, d, fc, sloc=sloc, ttl=x, payload_size=pay))(keys),\n",
    "                 linestyle='dotted', label='Geographic forwarding')\n",
    "        plt.plot(keys, \n",
    "                 np.vectorize(lambda x : mpr_energy_capacity(n, d, fc, ttl=x, payload_size=pay))(keys),\n",
    "                 linestyle='solid', label='MPR F\\&L')\n",
    "        plt.xlim(1, 14)\n",
    "        plt.xlabel(\"Average hop count\")\n",
    "    elif option==4: #pay\n",
    "        keys=np.arange(1,48)\n",
    "        plt.plot(keys, \n",
    "                 np.vectorize(lambda x : geo_energy_capacity(n, d, fc, sloc=sloc, ttl=ttl, payload_size=x))(keys),\n",
    "                 linestyle='dotted', label='Geographic forwarding')\n",
    "        plt.plot(keys, \n",
    "                 np.vectorize(lambda x : mpr_energy_capacity(n, d, fc, ttl=ttl, payload_size=x))(keys),\n",
    "                 linestyle='solid', label='MPR F\\&L')\n",
    "        plt.xlim(1, 48)\n",
    "        plt.xlabel(\"Payload size (bytes)\")\n",
    "    elif option==5: #sloc\n",
    "        keys=[1,2,4,8]\n",
    "        plt.plot(keys, \n",
    "                 np.vectorize(lambda x : geo_energy_capacity(n, d, fc, sloc=x, ttl=ttl, payload_size=pay))(keys),\n",
    "                 linestyle='dotted', label='Geographic forwarding')\n",
    "        plt.plot(keys, \n",
    "                 np.vectorize(lambda x : mpr_energy_capacity(n, d, fc, ttl=ttl, payload_size=pay))(keys),\n",
    "                 linestyle='solid', label='MPR F\\&L')\n",
    "        plt.xlim(1, 8)\n",
    "        plt.xlabel(\"Coordinates size (bytes)\")\n",
    "    plt.legend()\n",
    "    plt.gca().yaxis.set_major_formatter(formatter)\n",
    "    plt.ylabel(\"Message budget with one AA battery\")\n",
    "\n",
    "\n",
    "ex_box = VBox([HTML(\"<h4>Deployment parameters</h4>\"),\n",
    "               HBox([parameter]),\n",
    "               HBox([d, n, fc]),\n",
    "               HBox([ttl, pay, sloc]),\n",
    "               HBox([HTML(\"<b>Reference example:</b> (see Sec. II)\"),ex_a, ex_b, ex_c, ex_d])])\n",
    "\n",
    "ou = interactive_output(plot_function, { 'd':d, 'n':n, 'fc':fc,\n",
    "                            'sloc': sloc, 'ttl': ttl, 'pay': pay,\n",
    "                            '_a':ex_a, '_b': ex_b, '_c': ex_c, '_d': ex_d, 'option': parameter}\n",
    "                       )\n",
    "\n",
    "display(ex_box,ou)"
   ]
  },
  {
   "cell_type": "code",
   "execution_count": null,
   "metadata": {},
   "outputs": [],
   "source": []
  }
 ],
 "metadata": {
  "kernelspec": {
   "display_name": "Python 3",
   "language": "python",
   "name": "python3"
  },
  "language_info": {
   "codemirror_mode": {
    "name": "ipython",
    "version": 2
   },
   "file_extension": ".py",
   "mimetype": "text/x-python",
   "name": "python",
   "nbconvert_exporter": "python",
   "pygments_lexer": "ipython2",
   "version": "2.7.15"
  },
  "widgets": {
   "application/vnd.jupyter.widget-state+json": {
    "state": {
     "004a660116d84cd38b142e4fc1536d6a": {
      "model_module": "@jupyter-widgets/base",
      "model_module_version": "1.0.0",
      "model_name": "LayoutModel",
      "state": {}
     },
     "01565fc5905441bf92a2ca130c8fd239": {
      "model_module": "@jupyter-widgets/base",
      "model_module_version": "1.0.0",
      "model_name": "LayoutModel",
      "state": {}
     },
     "01870fa263a2478189998a8228a2b298": {
      "model_module": "@jupyter-widgets/base",
      "model_module_version": "1.0.0",
      "model_name": "LayoutModel",
      "state": {}
     },
     "01943df680d4441db8285049595ff7eb": {
      "model_module": "@jupyter-widgets/base",
      "model_module_version": "1.0.0",
      "model_name": "LayoutModel",
      "state": {}
     },
     "01bbec7b8a92464d83e226d5b2259f67": {
      "model_module": "@jupyter-widgets/base",
      "model_module_version": "1.0.0",
      "model_name": "LayoutModel",
      "state": {}
     },
     "023ae119c3dd49f3803009144cfdf1d3": {
      "model_module": "@jupyter-widgets/controls",
      "model_module_version": "1.2.0",
      "model_name": "ToggleButtonModel",
      "state": {
       "description": "C",
       "layout": "IPY_MODEL_24731a2f87f54356857885563ddac9ad",
       "style": "IPY_MODEL_37d68c16bb36414787cf2da2a2fe79cc"
      }
     },
     "025012302da34d1bb051b81d357f2d03": {
      "model_module": "@jupyter-widgets/controls",
      "model_module_version": "1.2.0",
      "model_name": "DescriptionStyleModel",
      "state": {
       "description_width": ""
      }
     },
     "02e9006763564fbeb8f00469df9e2d24": {
      "model_module": "@jupyter-widgets/controls",
      "model_module_version": "1.2.0",
      "model_name": "DropdownModel",
      "state": {
       "_options_labels": [
        "1",
        "2",
        "4",
        "8"
       ],
       "description": "$s_{loc}$ (bytes)",
       "index": 3,
       "layout": "IPY_MODEL_f5fb6b75743543b2b7493d450f4e3c1e",
       "style": "IPY_MODEL_0e3ecd7ab332432286b0e2c95a8e033c"
      }
     },
     "040c1425ce0346248ed74a0e3b9e8196": {
      "model_module": "@jupyter-widgets/controls",
      "model_module_version": "1.2.0",
      "model_name": "HTMLModel",
      "state": {
       "layout": "IPY_MODEL_c95ea6ea2ae44567b97acdf49d6fa8c5",
       "style": "IPY_MODEL_8ff568b6c58746d7bc6db5f1757a0913",
       "value": "<b>Reference example:</b> (see Sec. II)"
      }
     },
     "044518695f804e93a771837c2da6b7e3": {
      "model_module": "@jupyter-widgets/base",
      "model_module_version": "1.0.0",
      "model_name": "LayoutModel",
      "state": {}
     },
     "04a7db0cc15e486782b47704a4b7cd40": {
      "model_module": "@jupyter-widgets/controls",
      "model_module_version": "1.2.0",
      "model_name": "DropdownModel",
      "state": {
       "_options_labels": [
        "Network density",
        "Number of nodes",
        "Change frequency",
        "Average hop count",
        "Payload size",
        "Coordinates size"
       ],
       "description": "Parameter to vary",
       "index": 2,
       "layout": "IPY_MODEL_b19dfa58496742079889cba6b4b93b80",
       "style": "IPY_MODEL_1f5db313846349fd94ab567f49be1bca"
      }
     },
     "04e1f9dc017d48c481058ae5e27ca35d": {
      "model_module": "@jupyter-widgets/controls",
      "model_module_version": "1.2.0",
      "model_name": "DescriptionStyleModel",
      "state": {
       "description_width": ""
      }
     },
     "05ee0d781b8e4e2896d63949304b1bf9": {
      "model_module": "@jupyter-widgets/controls",
      "model_module_version": "1.2.0",
      "model_name": "DescriptionStyleModel",
      "state": {
       "description_width": ""
      }
     },
     "061d28fc21754e619a01e868e8cab1e2": {
      "model_module": "@jupyter-widgets/controls",
      "model_module_version": "1.2.0",
      "model_name": "DescriptionStyleModel",
      "state": {
       "description_width": "initial"
      }
     },
     "0633466aea5b49d98d3125d5dc454405": {
      "model_module": "@jupyter-widgets/base",
      "model_module_version": "1.0.0",
      "model_name": "LayoutModel",
      "state": {}
     },
     "06a26ab4c2f84b35b7ff586a1c938931": {
      "model_module": "@jupyter-widgets/controls",
      "model_module_version": "1.2.0",
      "model_name": "VBoxModel",
      "state": {
       "children": [
        "IPY_MODEL_446af6d0f1f447ad8317a17242f48384",
        "IPY_MODEL_0ff5203a7f9c48728626cb74a41592db",
        "IPY_MODEL_bea439f5ec384250832effacc886ef4b",
        "IPY_MODEL_06b30a2a53d247f7ab8cee8dd2f86032",
        "IPY_MODEL_4bd186b9e9ac41cab92184001c2415f9"
       ],
       "layout": "IPY_MODEL_681270a2a8e64bbdb591411d26a14b7f"
      }
     },
     "06b30a2a53d247f7ab8cee8dd2f86032": {
      "model_module": "@jupyter-widgets/controls",
      "model_module_version": "1.2.0",
      "model_name": "HBoxModel",
      "state": {
       "children": [
        "IPY_MODEL_a8e6fa41f4b84fd1bc44bf03c4de332e",
        "IPY_MODEL_07ec5cbed71e4c919765317c3d32178a",
        "IPY_MODEL_9039e7a5a4054a0d820334d698070ea7"
       ],
       "layout": "IPY_MODEL_ee7e7076a23f488cbadd41577261ae0f"
      }
     },
     "073e0b41340d40fca8cd77bd22fbca70": {
      "model_module": "@jupyter-widgets/controls",
      "model_module_version": "1.2.0",
      "model_name": "SliderStyleModel",
      "state": {
       "description_width": "initial"
      }
     },
     "07ec5cbed71e4c919765317c3d32178a": {
      "model_module": "@jupyter-widgets/controls",
      "model_module_version": "1.2.0",
      "model_name": "IntSliderModel",
      "state": {
       "description": "Payload size (bytes)",
       "layout": "IPY_MODEL_d9b8fd5f480b49eb96bf374aeb62a09a",
       "max": 48,
       "min": 1,
       "style": "IPY_MODEL_eff30e1e5ccf458ea53550528cfbf606",
       "value": 32
      }
     },
     "08a721ffdc8a4f1f942a1b47a9b8ee45": {
      "model_module": "@jupyter-widgets/controls",
      "model_module_version": "1.2.0",
      "model_name": "HBoxModel",
      "state": {
       "children": [
        "IPY_MODEL_22bf70aa8ebb42c59f17225d292df7d8",
        "IPY_MODEL_9cb7476967754c889983a6ccac53bec7",
        "IPY_MODEL_46390bc7ab6947f7b23d28a39ce26591",
        "IPY_MODEL_69c534cde1a94feeaec71c69af7a497b",
        "IPY_MODEL_a5b86813a3c742ec8e832ca6cb135eec"
       ],
       "layout": "IPY_MODEL_7fa73f5dd6334871b2be4bf0337898b8"
      }
     },
     "08f1355d65614b7e958ea9261b7f745c": {
      "model_module": "@jupyter-widgets/controls",
      "model_module_version": "1.2.0",
      "model_name": "ToggleButtonModel",
      "state": {
       "description": "B",
       "layout": "IPY_MODEL_4d622668acf44b548874af3e95b2b35c",
       "style": "IPY_MODEL_b8cadaaf584a470c9410384cbb1cf39a"
      }
     },
     "0a2d5a3fea8d4b638ebb042689f7a59d": {
      "model_module": "@jupyter-widgets/controls",
      "model_module_version": "1.2.0",
      "model_name": "DropdownModel",
      "state": {
       "_options_labels": [
        "1",
        "2",
        "4",
        "8"
       ],
       "description": "$s_{loc}$ (bytes)",
       "index": 3,
       "layout": "IPY_MODEL_35432bf971a44d4ca049aa1d7c189cc1",
       "style": "IPY_MODEL_41add99e1bd84cf08746fc76aed3196e"
      }
     },
     "0b917b1b3196426d9ba58c716e6bb197": {
      "model_module": "@jupyter-widgets/base",
      "model_module_version": "1.0.0",
      "model_name": "LayoutModel",
      "state": {}
     },
     "0cb74f3bed024c179afbb05bfc1ffa2d": {
      "model_module": "@jupyter-widgets/base",
      "model_module_version": "1.0.0",
      "model_name": "LayoutModel",
      "state": {}
     },
     "0cf1640801fe435ca6e023a5c26f5f9d": {
      "model_module": "@jupyter-widgets/controls",
      "model_module_version": "1.2.0",
      "model_name": "DescriptionStyleModel",
      "state": {
       "description_width": ""
      }
     },
     "0d105a29ce994e0398b66f536949ae63": {
      "model_module": "@jupyter-widgets/base",
      "model_module_version": "1.0.0",
      "model_name": "LayoutModel",
      "state": {}
     },
     "0d668f2491134307a6d2d4987a3e76c0": {
      "model_module": "@jupyter-widgets/base",
      "model_module_version": "1.0.0",
      "model_name": "LayoutModel",
      "state": {}
     },
     "0e3ecd7ab332432286b0e2c95a8e033c": {
      "model_module": "@jupyter-widgets/controls",
      "model_module_version": "1.2.0",
      "model_name": "DescriptionStyleModel",
      "state": {
       "description_width": ""
      }
     },
     "0efdf896ec3a48ea9968e47e1e859d3c": {
      "model_module": "@jupyter-widgets/controls",
      "model_module_version": "1.2.0",
      "model_name": "SliderStyleModel",
      "state": {
       "description_width": "initial"
      }
     },
     "0ff5203a7f9c48728626cb74a41592db": {
      "model_module": "@jupyter-widgets/controls",
      "model_module_version": "1.2.0",
      "model_name": "HBoxModel",
      "state": {
       "children": [
        "IPY_MODEL_04a7db0cc15e486782b47704a4b7cd40"
       ],
       "layout": "IPY_MODEL_d2b4bdd81174464a9d8301d1d59af509"
      }
     },
     "131ce33d60d84e30854f49a0752eac31": {
      "model_module": "@jupyter-widgets/controls",
      "model_module_version": "1.2.0",
      "model_name": "DescriptionStyleModel",
      "state": {
       "description_width": ""
      }
     },
     "1495b0b1635d4f86bc2017661f353ea0": {
      "model_module": "@jupyter-widgets/base",
      "model_module_version": "1.0.0",
      "model_name": "LayoutModel",
      "state": {}
     },
     "14d5b3f7254c410ca582fbad93b3495c": {
      "model_module": "@jupyter-widgets/controls",
      "model_module_version": "1.2.0",
      "model_name": "DescriptionStyleModel",
      "state": {
       "description_width": ""
      }
     },
     "1513f1d889ec4be19831b546e3812103": {
      "model_module": "@jupyter-widgets/controls",
      "model_module_version": "1.2.0",
      "model_name": "DescriptionStyleModel",
      "state": {
       "description_width": ""
      }
     },
     "154f12ee91f6475c89c746d30e4b5ebc": {
      "model_module": "@jupyter-widgets/base",
      "model_module_version": "1.0.0",
      "model_name": "LayoutModel",
      "state": {}
     },
     "1622477d4f254fd693089bc2cfc3634e": {
      "model_module": "@jupyter-widgets/base",
      "model_module_version": "1.0.0",
      "model_name": "LayoutModel",
      "state": {}
     },
     "162500e8d8914db281ef2662b882e98b": {
      "model_module": "@jupyter-widgets/controls",
      "model_module_version": "1.2.0",
      "model_name": "ToggleButtonModel",
      "state": {
       "description": "D",
       "layout": "IPY_MODEL_da01e52ff34a483eb68823299026f599",
       "style": "IPY_MODEL_025012302da34d1bb051b81d357f2d03"
      }
     },
     "1635a18447894448a633a10b93a9cd71": {
      "model_module": "@jupyter-widgets/base",
      "model_module_version": "1.0.0",
      "model_name": "LayoutModel",
      "state": {}
     },
     "167898c2143d4787876137f8697011b3": {
      "model_module": "@jupyter-widgets/controls",
      "model_module_version": "1.2.0",
      "model_name": "HTMLModel",
      "state": {
       "layout": "IPY_MODEL_f126283c7f5545c4a13703982db1dfb7",
       "style": "IPY_MODEL_682e82f1d1244cb5ab1c5ad73a546397",
       "value": "<h4>Deployment parameters</h4>"
      }
     },
     "178f761f9a4e440886edc92660f1399f": {
      "model_module": "@jupyter-widgets/controls",
      "model_module_version": "1.2.0",
      "model_name": "DescriptionStyleModel",
      "state": {
       "description_width": ""
      }
     },
     "17c39bf552934970bacbcfdcff6a9563": {
      "model_module": "@jupyter-widgets/controls",
      "model_module_version": "1.2.0",
      "model_name": "DescriptionStyleModel",
      "state": {
       "description_width": ""
      }
     },
     "1881854519fe4819aee0280005774780": {
      "model_module": "@jupyter-widgets/controls",
      "model_module_version": "1.2.0",
      "model_name": "SliderStyleModel",
      "state": {
       "description_width": "initial"
      }
     },
     "1a891e1b2f7b4546b9e11ce38a6322bf": {
      "model_module": "@jupyter-widgets/controls",
      "model_module_version": "1.2.0",
      "model_name": "DescriptionStyleModel",
      "state": {
       "description_width": ""
      }
     },
     "1c4532ec8f51495ea380c12877b9f6c7": {
      "model_module": "@jupyter-widgets/base",
      "model_module_version": "1.0.0",
      "model_name": "LayoutModel",
      "state": {}
     },
     "1cda42d56ba8423b94e936f8ad62b49a": {
      "model_module": "@jupyter-widgets/base",
      "model_module_version": "1.0.0",
      "model_name": "LayoutModel",
      "state": {}
     },
     "1f17d91f1984424084ce12e4b98da403": {
      "model_module": "@jupyter-widgets/base",
      "model_module_version": "1.0.0",
      "model_name": "LayoutModel",
      "state": {}
     },
     "1f5db313846349fd94ab567f49be1bca": {
      "model_module": "@jupyter-widgets/controls",
      "model_module_version": "1.2.0",
      "model_name": "DescriptionStyleModel",
      "state": {
       "description_width": ""
      }
     },
     "1f815f265c0a473fb2f7766d61f55f3b": {
      "model_module": "@jupyter-widgets/base",
      "model_module_version": "1.0.0",
      "model_name": "LayoutModel",
      "state": {}
     },
     "1fe553316890471d81f788e63f5d9164": {
      "model_module": "@jupyter-widgets/controls",
      "model_module_version": "1.2.0",
      "model_name": "SliderStyleModel",
      "state": {
       "description_width": "initial"
      }
     },
     "20a9c211be614d40a5e8567a54dbcfb4": {
      "model_module": "@jupyter-widgets/controls",
      "model_module_version": "1.2.0",
      "model_name": "DescriptionStyleModel",
      "state": {
       "description_width": ""
      }
     },
     "21300a072ccd41fbaad3b419e46d5fdf": {
      "model_module": "@jupyter-widgets/base",
      "model_module_version": "1.0.0",
      "model_name": "LayoutModel",
      "state": {}
     },
     "2162e5aea2ba4516bb43c88c6f120e3a": {
      "model_module": "@jupyter-widgets/base",
      "model_module_version": "1.0.0",
      "model_name": "LayoutModel",
      "state": {}
     },
     "2223148acf144700b1482b2328a7f81e": {
      "model_module": "@jupyter-widgets/base",
      "model_module_version": "1.0.0",
      "model_name": "LayoutModel",
      "state": {}
     },
     "2261fb151c5144538f9ae0408f07bc2b": {
      "model_module": "@jupyter-widgets/controls",
      "model_module_version": "1.2.0",
      "model_name": "HBoxModel",
      "state": {
       "children": [
        "IPY_MODEL_94bcff1db056448bb5c7e0365ba9a4cd",
        "IPY_MODEL_3d256ff19af04b95b0d521e8e2ab1739",
        "IPY_MODEL_b9b53653b37b4a80855e312f63040ff7",
        "IPY_MODEL_aa31b4f76a4a44f1a519f228e919f032",
        "IPY_MODEL_acc93762d6f346eba3ea26b551dc4af8"
       ],
       "layout": "IPY_MODEL_0d105a29ce994e0398b66f536949ae63"
      }
     },
     "22bf70aa8ebb42c59f17225d292df7d8": {
      "model_module": "@jupyter-widgets/controls",
      "model_module_version": "1.2.0",
      "model_name": "HTMLModel",
      "state": {
       "layout": "IPY_MODEL_5ef4da5c647e45afaf7bd5aca7fab8af",
       "style": "IPY_MODEL_fa8cfd8b63a146cbadca8bc146b00b5f",
       "value": "<b>Reference example:</b> (see Sec. II)"
      }
     },
     "23b9ead70f70445f80c959c6d5709483": {
      "model_module": "@jupyter-widgets/controls",
      "model_module_version": "1.2.0",
      "model_name": "FloatTextModel",
      "state": {
       "description": "Change frequency",
       "layout": "IPY_MODEL_9033cd9a2103402b9e537c8fbe08d620",
       "step": null,
       "style": "IPY_MODEL_50c25e13ef6447679c8f1fb458dcee24",
       "value": 60
      }
     },
     "247257df22474d09b6ff9140cab38a53": {
      "model_module": "@jupyter-widgets/controls",
      "model_module_version": "1.2.0",
      "model_name": "HTMLModel",
      "state": {
       "layout": "IPY_MODEL_fa41c3077a81458486cff8170162f89d",
       "style": "IPY_MODEL_c9df9a0a58634e538871396a0fd00c86",
       "value": "<b>Reference example:</b> (see Sec. II)"
      }
     },
     "24731a2f87f54356857885563ddac9ad": {
      "model_module": "@jupyter-widgets/base",
      "model_module_version": "1.0.0",
      "model_name": "LayoutModel",
      "state": {}
     },
     "24d8caeda1f84bd0b07bcd10d2a94322": {
      "model_module": "@jupyter-widgets/controls",
      "model_module_version": "1.2.0",
      "model_name": "HBoxModel",
      "state": {
       "children": [
        "IPY_MODEL_b7e43151e10447b5af7b5cbdc4318f5a",
        "IPY_MODEL_37f5c3fd59604f2c9f0bab1daf70e318",
        "IPY_MODEL_0a2d5a3fea8d4b638ebb042689f7a59d"
       ],
       "layout": "IPY_MODEL_c64017e45dd44a75bfc3d201fcfb5f00"
      }
     },
     "25bec83f3cbf46409c897d4779c80d54": {
      "model_module": "@jupyter-widgets/base",
      "model_module_version": "1.0.0",
      "model_name": "LayoutModel",
      "state": {}
     },
     "2666ecafaf44400bbc1f145111daa975": {
      "model_module": "@jupyter-widgets/base",
      "model_module_version": "1.0.0",
      "model_name": "LayoutModel",
      "state": {}
     },
     "27ac70f635a44b428f1121ee12e174a7": {
      "model_module": "@jupyter-widgets/base",
      "model_module_version": "1.0.0",
      "model_name": "LayoutModel",
      "state": {}
     },
     "28cb552eebfd4625a02d1ac6bdbf7418": {
      "model_module": "@jupyter-widgets/base",
      "model_module_version": "1.0.0",
      "model_name": "LayoutModel",
      "state": {}
     },
     "292e5a8e43ca42738b42f7b6e47d3c03": {
      "model_module": "@jupyter-widgets/base",
      "model_module_version": "1.0.0",
      "model_name": "LayoutModel",
      "state": {}
     },
     "29d6c6e6bd3441efbf28b6e3100148ea": {
      "model_module": "@jupyter-widgets/base",
      "model_module_version": "1.0.0",
      "model_name": "LayoutModel",
      "state": {}
     },
     "2a83d83e99064d27909fad21084537f1": {
      "model_module": "@jupyter-widgets/controls",
      "model_module_version": "1.2.0",
      "model_name": "SliderStyleModel",
      "state": {
       "description_width": "initial"
      }
     },
     "2abdc96669334bbebbd1ca3698a74e22": {
      "model_module": "@jupyter-widgets/controls",
      "model_module_version": "1.2.0",
      "model_name": "FloatSliderModel",
      "state": {
       "description": "Network density",
       "layout": "IPY_MODEL_fda77ae0e06542838a4addf184387a62",
       "max": 15,
       "min": 4,
       "style": "IPY_MODEL_5332ff50377d4e118642ac06a4919268",
       "value": 8
      }
     },
     "2b3e07417d824135b673b87c666c57f2": {
      "model_module": "@jupyter-widgets/base",
      "model_module_version": "1.0.0",
      "model_name": "LayoutModel",
      "state": {}
     },
     "2bb504a30fda44e39a19ac26ead29aae": {
      "model_module": "@jupyter-widgets/controls",
      "model_module_version": "1.2.0",
      "model_name": "HBoxModel",
      "state": {
       "children": [
        "IPY_MODEL_040c1425ce0346248ed74a0e3b9e8196",
        "IPY_MODEL_9d4171e02df94b2eadc3251ea0718af9",
        "IPY_MODEL_883e26b50cc2441d8af12896d85c256b",
        "IPY_MODEL_023ae119c3dd49f3803009144cfdf1d3",
        "IPY_MODEL_fd1efd5877524e4eb9c50b4104b14d77"
       ],
       "layout": "IPY_MODEL_71c94df6818645e4903e0accf2e0dde0"
      }
     },
     "2c4f2c174cee459697b102791fe6702c": {
      "model_module": "@jupyter-widgets/controls",
      "model_module_version": "1.2.0",
      "model_name": "HTMLModel",
      "state": {
       "layout": "IPY_MODEL_01870fa263a2478189998a8228a2b298",
       "style": "IPY_MODEL_c0ad1e741bd14c0f99fffb30263fdb12",
       "value": "<h4>Deployment parameters</h4>"
      }
     },
     "2ce7b59717d64e9b939901cdc72e2cd0": {
      "model_module": "@jupyter-widgets/controls",
      "model_module_version": "1.2.0",
      "model_name": "SliderStyleModel",
      "state": {
       "description_width": "initial"
      }
     },
     "2ced92ebdb35435980ef706bb1336b54": {
      "model_module": "@jupyter-widgets/controls",
      "model_module_version": "1.2.0",
      "model_name": "HTMLModel",
      "state": {
       "layout": "IPY_MODEL_af272e5cb9734e259917320793c0c14e",
       "style": "IPY_MODEL_41c2f54be43e40af8bfae33604e48d36",
       "value": "<b>Geographic forwarding</b> is the most efficient in these settings by 0.52%"
      }
     },
     "2d2dc3a75712434189b1413d39ff0f5f": {
      "model_module": "@jupyter-widgets/base",
      "model_module_version": "1.0.0",
      "model_name": "LayoutModel",
      "state": {}
     },
     "2e109aa3c9914e10ad11032908b0d4b9": {
      "model_module": "@jupyter-widgets/output",
      "model_module_version": "1.0.0",
      "model_name": "OutputModel",
      "state": {
       "layout": "IPY_MODEL_1622477d4f254fd693089bc2cfc3634e",
       "outputs": [
        {
         "data": {
          "application/vnd.jupyter.widget-view+json": {
           "model_id": "878fca34b085431f9f3bff3bad2da280",
           "version_major": 2,
           "version_minor": 0
          },
          "text/plain": "HTML(value='<h4>Results</h4>')"
         },
         "metadata": {},
         "output_type": "display_data"
        },
        {
         "name": "stdout",
         "output_type": "stream",
         "text": "Message budget with MPR: 6244805 messages\nMessage budget with geographic forwarding: 6277729 messages\n"
        },
        {
         "data": {
          "application/vnd.jupyter.widget-view+json": {
           "model_id": "c890dfd78f9346cdabfa7b979f665235",
           "version_major": 2,
           "version_minor": 0
          },
          "text/plain": "HTML(value='<b>Geographic forwarding</b> is the most efficient in these settings by 0.52%')"
         },
         "metadata": {},
         "output_type": "display_data"
        }
       ]
      }
     },
     "2ef00990261d4d039bbca2149c4073b3": {
      "model_module": "@jupyter-widgets/base",
      "model_module_version": "1.0.0",
      "model_name": "LayoutModel",
      "state": {}
     },
     "2f199bd553a94c6bb0e60674c86fad86": {
      "model_module": "@jupyter-widgets/controls",
      "model_module_version": "1.2.0",
      "model_name": "VBoxModel",
      "state": {
       "children": [
        "IPY_MODEL_98de1239a5e449ef9d606962201a7796",
        "IPY_MODEL_b31b77a9374c4efcb5cac5ddd5f1f5af",
        "IPY_MODEL_54375239d4dd4c34a05b33e4a53bd1ee"
       ],
       "layout": "IPY_MODEL_eca5a56c1e934fd784a77f2fdc1a872b"
      }
     },
     "2fb183480aec412f95c48b164982cd4c": {
      "model_module": "@jupyter-widgets/controls",
      "model_module_version": "1.2.0",
      "model_name": "FloatSliderModel",
      "state": {
       "description": "Network density",
       "layout": "IPY_MODEL_f002d444a9d54285896faa3cbf2ca240",
       "max": 15,
       "min": 4,
       "style": "IPY_MODEL_e5a7b89193c44fe1acfa49bdf3f3b615",
       "value": 8
      }
     },
     "31a82f02fbfb475b965ce96d267d9701": {
      "model_module": "@jupyter-widgets/base",
      "model_module_version": "1.0.0",
      "model_name": "LayoutModel",
      "state": {}
     },
     "31dfb9a2fd0144cfa4a6559f02b58b9f": {
      "model_module": "@jupyter-widgets/base",
      "model_module_version": "1.0.0",
      "model_name": "LayoutModel",
      "state": {}
     },
     "3214c563b24b4796839c8216e5d678e0": {
      "model_module": "@jupyter-widgets/controls",
      "model_module_version": "1.2.0",
      "model_name": "DescriptionStyleModel",
      "state": {
       "description_width": ""
      }
     },
     "3442f6f88d8442f98a2515f83630aa70": {
      "model_module": "@jupyter-widgets/controls",
      "model_module_version": "1.2.0",
      "model_name": "DescriptionStyleModel",
      "state": {
       "description_width": ""
      }
     },
     "34ac3132bbdb4e7b91b3c4b06d4b8b3e": {
      "model_module": "@jupyter-widgets/controls",
      "model_module_version": "1.2.0",
      "model_name": "SliderStyleModel",
      "state": {
       "description_width": "initial"
      }
     },
     "35238a7cc46e432bb6c3286479969944": {
      "model_module": "@jupyter-widgets/base",
      "model_module_version": "1.0.0",
      "model_name": "LayoutModel",
      "state": {}
     },
     "35432bf971a44d4ca049aa1d7c189cc1": {
      "model_module": "@jupyter-widgets/base",
      "model_module_version": "1.0.0",
      "model_name": "LayoutModel",
      "state": {}
     },
     "35bd0771119c45f5ba56167fd92a7c04": {
      "model_module": "@jupyter-widgets/controls",
      "model_module_version": "1.2.0",
      "model_name": "DropdownModel",
      "state": {
       "_options_labels": [
        "1",
        "2",
        "4",
        "8"
       ],
       "description": "$s_{loc}$ (bytes)",
       "index": 3,
       "layout": "IPY_MODEL_a85c20e477d547e7af2a5a07b2645382",
       "style": "IPY_MODEL_c5444101c9484217b38e6384564cb672"
      }
     },
     "360151ad5b714daab0ce0c3d8dd2e900": {
      "model_module": "@jupyter-widgets/base",
      "model_module_version": "1.0.0",
      "model_name": "LayoutModel",
      "state": {}
     },
     "36434f11e7514aeab13d8c3742282079": {
      "model_module": "@jupyter-widgets/controls",
      "model_module_version": "1.2.0",
      "model_name": "FloatTextModel",
      "state": {
       "description": "Change frequency",
       "disabled": true,
       "layout": "IPY_MODEL_636e0de0c9664e1b9082736821d1e6d0",
       "step": null,
       "style": "IPY_MODEL_377542b8ee8e448d88e72263a8cd95df",
       "value": 60
      }
     },
     "369e262bd87e4ebe9ede3daa197e2da7": {
      "model_module": "@jupyter-widgets/base",
      "model_module_version": "1.0.0",
      "model_name": "LayoutModel",
      "state": {}
     },
     "377542b8ee8e448d88e72263a8cd95df": {
      "model_module": "@jupyter-widgets/controls",
      "model_module_version": "1.2.0",
      "model_name": "DescriptionStyleModel",
      "state": {
       "description_width": "initial"
      }
     },
     "37d68c16bb36414787cf2da2a2fe79cc": {
      "model_module": "@jupyter-widgets/controls",
      "model_module_version": "1.2.0",
      "model_name": "DescriptionStyleModel",
      "state": {
       "description_width": ""
      }
     },
     "37f5c3fd59604f2c9f0bab1daf70e318": {
      "model_module": "@jupyter-widgets/controls",
      "model_module_version": "1.2.0",
      "model_name": "IntSliderModel",
      "state": {
       "description": "Payload size (bytes)",
       "layout": "IPY_MODEL_e2aebf5431f94cfd88361ef48e9bd0e8",
       "max": 48,
       "min": 1,
       "style": "IPY_MODEL_6f3d74b7908141f5b6628f4df1e3cb67",
       "value": 32
      }
     },
     "38d5104ce88842e7b2808d00c9e55121": {
      "model_module": "@jupyter-widgets/controls",
      "model_module_version": "1.2.0",
      "model_name": "HBoxModel",
      "state": {
       "children": [
        "IPY_MODEL_a3d509b0f30c4975bc130d069b3575ae",
        "IPY_MODEL_c449783da4e84433a21d9fc27eec9872"
       ],
       "layout": "IPY_MODEL_eddd65116b824d45a9de86bf4db71332"
      }
     },
     "3ad3f656095b408c851285856ac5dd48": {
      "model_module": "@jupyter-widgets/base",
      "model_module_version": "1.0.0",
      "model_name": "LayoutModel",
      "state": {}
     },
     "3b8a84d1caff40a6840f967b3ac60442": {
      "model_module": "@jupyter-widgets/controls",
      "model_module_version": "1.2.0",
      "model_name": "DropdownModel",
      "state": {
       "_options_labels": [
        "1",
        "2",
        "4",
        "8"
       ],
       "description": "$s_{loc}$ (bytes)",
       "index": 3,
       "layout": "IPY_MODEL_9c7ff845f32d401fb49a6c6d05bece0c",
       "style": "IPY_MODEL_178f761f9a4e440886edc92660f1399f"
      }
     },
     "3bc0eec1720b4393afd7cf7ba547cd9e": {
      "model_module": "@jupyter-widgets/controls",
      "model_module_version": "1.2.0",
      "model_name": "DescriptionStyleModel",
      "state": {
       "description_width": ""
      }
     },
     "3c3afff2c73b49359b1844e401f46264": {
      "model_module": "@jupyter-widgets/controls",
      "model_module_version": "1.2.0",
      "model_name": "DescriptionStyleModel",
      "state": {
       "description_width": ""
      }
     },
     "3c51f65adb0144ef94387e70a45b5b25": {
      "model_module": "@jupyter-widgets/base",
      "model_module_version": "1.0.0",
      "model_name": "LayoutModel",
      "state": {}
     },
     "3c990885bf4b4a6e83f7b33dbf9d2cc3": {
      "model_module": "@jupyter-widgets/base",
      "model_module_version": "1.0.0",
      "model_name": "LayoutModel",
      "state": {}
     },
     "3d109c699e514298bcb279046a6225ce": {
      "model_module": "@jupyter-widgets/controls",
      "model_module_version": "1.2.0",
      "model_name": "ToggleButtonModel",
      "state": {
       "description": "C",
       "layout": "IPY_MODEL_b1b30fcb026e4c2db21b84a987bba4b5",
       "style": "IPY_MODEL_898b30f5161d4839aaa434d74c036ceb"
      }
     },
     "3d256ff19af04b95b0d521e8e2ab1739": {
      "model_module": "@jupyter-widgets/controls",
      "model_module_version": "1.2.0",
      "model_name": "ToggleButtonModel",
      "state": {
       "description": "A",
       "layout": "IPY_MODEL_369e262bd87e4ebe9ede3daa197e2da7",
       "style": "IPY_MODEL_6409b673a750437291c950a1c0264dee"
      }
     },
     "3edaf6f70be14f4baf7291fbaed51e07": {
      "model_module": "@jupyter-widgets/base",
      "model_module_version": "1.0.0",
      "model_name": "LayoutModel",
      "state": {}
     },
     "40df2ddb245e44138dbfa70ec3128ed4": {
      "model_module": "@jupyter-widgets/controls",
      "model_module_version": "1.2.0",
      "model_name": "ToggleButtonModel",
      "state": {
       "description": "B",
       "layout": "IPY_MODEL_9cf4bbee33bd4968bd9b8a3b7ecc0852",
       "style": "IPY_MODEL_3442f6f88d8442f98a2515f83630aa70"
      }
     },
     "414eaab4a26e4990a00e6328890ab5e0": {
      "model_module": "@jupyter-widgets/base",
      "model_module_version": "1.0.0",
      "model_name": "LayoutModel",
      "state": {}
     },
     "41add99e1bd84cf08746fc76aed3196e": {
      "model_module": "@jupyter-widgets/controls",
      "model_module_version": "1.2.0",
      "model_name": "DescriptionStyleModel",
      "state": {
       "description_width": ""
      }
     },
     "41c2f54be43e40af8bfae33604e48d36": {
      "model_module": "@jupyter-widgets/controls",
      "model_module_version": "1.2.0",
      "model_name": "DescriptionStyleModel",
      "state": {
       "description_width": ""
      }
     },
     "42a23fb1904c40f8a3221fa3a934ff7f": {
      "model_module": "@jupyter-widgets/controls",
      "model_module_version": "1.2.0",
      "model_name": "IntSliderModel",
      "state": {
       "description": "Number of nodes",
       "layout": "IPY_MODEL_a7e6196b548b45e5b777a90329d3e5c2",
       "max": 2000,
       "min": 10,
       "style": "IPY_MODEL_e9a0461d27604547b78d72bd2adb1cba",
       "value": 100
      }
     },
     "42e17793e8c644b598a12b86aacb958d": {
      "model_module": "@jupyter-widgets/base",
      "model_module_version": "1.0.0",
      "model_name": "LayoutModel",
      "state": {}
     },
     "43bfdaac904549f1bdb7cb958de69577": {
      "model_module": "@jupyter-widgets/controls",
      "model_module_version": "1.2.0",
      "model_name": "SliderStyleModel",
      "state": {
       "description_width": "initial"
      }
     },
     "446af6d0f1f447ad8317a17242f48384": {
      "model_module": "@jupyter-widgets/controls",
      "model_module_version": "1.2.0",
      "model_name": "HTMLModel",
      "state": {
       "layout": "IPY_MODEL_1635a18447894448a633a10b93a9cd71",
       "style": "IPY_MODEL_a9450cbd72d34eb4ae75a5480cefd4f6",
       "value": "<h4>Deployment parameters</h4>"
      }
     },
     "458bd59d00694a80bec372d81906f342": {
      "model_module": "@jupyter-widgets/controls",
      "model_module_version": "1.2.0",
      "model_name": "HTMLModel",
      "state": {
       "layout": "IPY_MODEL_bfc07a75384c4c01b84864106a2eb798",
       "style": "IPY_MODEL_77b688cc0bf347c6950a71bc9642cb82",
       "value": "<h4>Results</h4>"
      }
     },
     "45affdbdfbae4d99a8e36926f536165d": {
      "model_module": "@jupyter-widgets/controls",
      "model_module_version": "1.2.0",
      "model_name": "DescriptionStyleModel",
      "state": {
       "description_width": ""
      }
     },
     "46390bc7ab6947f7b23d28a39ce26591": {
      "model_module": "@jupyter-widgets/controls",
      "model_module_version": "1.2.0",
      "model_name": "ToggleButtonModel",
      "state": {
       "description": "B",
       "layout": "IPY_MODEL_a6e5caf5840c44588b7615df9e403d4e",
       "style": "IPY_MODEL_500c2dee81fc484b801efdfa0fcf2c51"
      }
     },
     "492232f9573b46c29194147ff2e60dd2": {
      "model_module": "@jupyter-widgets/controls",
      "model_module_version": "1.2.0",
      "model_name": "DescriptionStyleModel",
      "state": {
       "description_width": ""
      }
     },
     "4a32d9d9ef5c4d54a9727bb4f0a0a151": {
      "model_module": "@jupyter-widgets/controls",
      "model_module_version": "1.2.0",
      "model_name": "HTMLModel",
      "state": {
       "layout": "IPY_MODEL_2d2dc3a75712434189b1413d39ff0f5f",
       "style": "IPY_MODEL_5c12ab7a03fe444981bea2aab8e46878",
       "value": "<h4>Deployment parameters</h4>"
      }
     },
     "4bc6ac9d6d074ba98a57c48420031c94": {
      "model_module": "@jupyter-widgets/base",
      "model_module_version": "1.0.0",
      "model_name": "LayoutModel",
      "state": {}
     },
     "4bd186b9e9ac41cab92184001c2415f9": {
      "model_module": "@jupyter-widgets/controls",
      "model_module_version": "1.2.0",
      "model_name": "HBoxModel",
      "state": {
       "children": [
        "IPY_MODEL_247257df22474d09b6ff9140cab38a53",
        "IPY_MODEL_c5e3c0184af74603b9b5f1b7509a32af",
        "IPY_MODEL_97c6379587f14bfc8bf94afb2d887058",
        "IPY_MODEL_5f8a7a3a882742b49035918fd0fe4f1b",
        "IPY_MODEL_761e2858271b40ff92a7672cc5a6e4a5"
       ],
       "layout": "IPY_MODEL_8efc7bf714c74b7aa610d397bf14f398"
      }
     },
     "4ca6773f47e74747985cb447eb8d63c6": {
      "model_module": "@jupyter-widgets/base",
      "model_module_version": "1.0.0",
      "model_name": "LayoutModel",
      "state": {}
     },
     "4d622668acf44b548874af3e95b2b35c": {
      "model_module": "@jupyter-widgets/base",
      "model_module_version": "1.0.0",
      "model_name": "LayoutModel",
      "state": {}
     },
     "4dbeb9efb80b420db0ef51711372e15b": {
      "model_module": "@jupyter-widgets/controls",
      "model_module_version": "1.2.0",
      "model_name": "DescriptionStyleModel",
      "state": {
       "description_width": ""
      }
     },
     "4ec5439085464e08a71346aef8353d63": {
      "model_module": "@jupyter-widgets/controls",
      "model_module_version": "1.2.0",
      "model_name": "HBoxModel",
      "state": {
       "children": [
        "IPY_MODEL_dae5178cb77148d59fad9018584da1c9",
        "IPY_MODEL_7225be7f50184cafb6b1c010a245568d",
        "IPY_MODEL_3b8a84d1caff40a6840f967b3ac60442"
       ],
       "layout": "IPY_MODEL_01565fc5905441bf92a2ca130c8fd239"
      }
     },
     "4ffe6df07d07483fa453be41a86da10d": {
      "model_module": "@jupyter-widgets/controls",
      "model_module_version": "1.2.0",
      "model_name": "HTMLModel",
      "state": {
       "layout": "IPY_MODEL_da7741a8d3454dc19cc6a95f195104ae",
       "style": "IPY_MODEL_dfea85f4385841dcae51acdaa80025c7",
       "value": "<h4>Results</h4>"
      }
     },
     "500c2dee81fc484b801efdfa0fcf2c51": {
      "model_module": "@jupyter-widgets/controls",
      "model_module_version": "1.2.0",
      "model_name": "DescriptionStyleModel",
      "state": {
       "description_width": ""
      }
     },
     "50149fa410704b9296a9e4fbd055db90": {
      "model_module": "@jupyter-widgets/base",
      "model_module_version": "1.0.0",
      "model_name": "LayoutModel",
      "state": {}
     },
     "50c25e13ef6447679c8f1fb458dcee24": {
      "model_module": "@jupyter-widgets/controls",
      "model_module_version": "1.2.0",
      "model_name": "DescriptionStyleModel",
      "state": {
       "description_width": "initial"
      }
     },
     "52b7a663adc84aa79d56e4f2a907e72d": {
      "model_module": "@jupyter-widgets/controls",
      "model_module_version": "1.2.0",
      "model_name": "HTMLModel",
      "state": {
       "layout": "IPY_MODEL_5a5cca26790e47f6b7b69587bb25821d",
       "style": "IPY_MODEL_e0d53637a6a2451aa058a7a750b534c5",
       "value": "<b>Reference example:</b> (see Sec. II)"
      }
     },
     "5301498132b74116ab899506f32c9da8": {
      "model_module": "@jupyter-widgets/controls",
      "model_module_version": "1.2.0",
      "model_name": "VBoxModel",
      "state": {
       "children": [
        "IPY_MODEL_2c4f2c174cee459697b102791fe6702c",
        "IPY_MODEL_5bf8d11ac0194dcc81fcdb6be7a98ebf",
        "IPY_MODEL_7f571113409b4db3aa84b68e97669d56",
        "IPY_MODEL_b339c74ed3e3428ea3adc6a23840dc54"
       ],
       "layout": "IPY_MODEL_55a03a23a3964e389485697ddfa38ceb"
      }
     },
     "5332ff50377d4e118642ac06a4919268": {
      "model_module": "@jupyter-widgets/controls",
      "model_module_version": "1.2.0",
      "model_name": "SliderStyleModel",
      "state": {
       "description_width": "initial"
      }
     },
     "53c8e23aa16f45c98be11828e45bf872": {
      "model_module": "@jupyter-widgets/controls",
      "model_module_version": "1.2.0",
      "model_name": "DescriptionStyleModel",
      "state": {
       "description_width": ""
      }
     },
     "54375239d4dd4c34a05b33e4a53bd1ee": {
      "model_module": "@jupyter-widgets/controls",
      "model_module_version": "1.2.0",
      "model_name": "HBoxModel",
      "state": {
       "children": [
        "IPY_MODEL_b4e3972f771646ccb5c2deb77f71718d",
        "IPY_MODEL_9edfaecd65984895b7da2b2d38496228",
        "IPY_MODEL_bd2d923ea66e43ba8da41a25b5fd1300",
        "IPY_MODEL_5bf7fa24f8ed4bd1b9d61dd239d580e6",
        "IPY_MODEL_5f9b8d6bc0414bc99daf752dec381f99"
       ],
       "layout": "IPY_MODEL_2223148acf144700b1482b2328a7f81e"
      }
     },
     "55a03a23a3964e389485697ddfa38ceb": {
      "model_module": "@jupyter-widgets/base",
      "model_module_version": "1.0.0",
      "model_name": "LayoutModel",
      "state": {}
     },
     "595c1aca9f244225a5616e5196a3a9df": {
      "model_module": "@jupyter-widgets/base",
      "model_module_version": "1.0.0",
      "model_name": "LayoutModel",
      "state": {}
     },
     "59997e94009a470ebe61264c6550f1a3": {
      "model_module": "@jupyter-widgets/controls",
      "model_module_version": "1.2.0",
      "model_name": "IntSliderModel",
      "state": {
       "description": "Avg hop count",
       "layout": "IPY_MODEL_3edaf6f70be14f4baf7291fbaed51e07",
       "max": 14,
       "min": 1,
       "style": "IPY_MODEL_2ce7b59717d64e9b939901cdc72e2cd0",
       "value": 4
      }
     },
     "5a16d271392e4480b95c5cb93438f944": {
      "model_module": "@jupyter-widgets/base",
      "model_module_version": "1.0.0",
      "model_name": "LayoutModel",
      "state": {}
     },
     "5a5cca26790e47f6b7b69587bb25821d": {
      "model_module": "@jupyter-widgets/base",
      "model_module_version": "1.0.0",
      "model_name": "LayoutModel",
      "state": {}
     },
     "5a7f70eb2ef54dfda68768d329dd24ec": {
      "model_module": "@jupyter-widgets/controls",
      "model_module_version": "1.2.0",
      "model_name": "VBoxModel",
      "state": {
       "children": [
        "IPY_MODEL_4a32d9d9ef5c4d54a9727bb4f0a0a151",
        "IPY_MODEL_87d53ce8e5c34fc0b1b75a2d12e40ced",
        "IPY_MODEL_4ec5439085464e08a71346aef8353d63",
        "IPY_MODEL_de6e645e66874febafcabff4ef91ae27"
       ],
       "layout": "IPY_MODEL_28cb552eebfd4625a02d1ac6bdbf7418"
      }
     },
     "5ad5d0bfa14847378833588393167c7b": {
      "model_module": "@jupyter-widgets/base",
      "model_module_version": "1.0.0",
      "model_name": "LayoutModel",
      "state": {}
     },
     "5b39b631cf8743fe9632cab92f702e04": {
      "model_module": "@jupyter-widgets/controls",
      "model_module_version": "1.2.0",
      "model_name": "SliderStyleModel",
      "state": {
       "description_width": "initial"
      }
     },
     "5bb7d83ea8d647b3bee662884d5909d9": {
      "model_module": "@jupyter-widgets/base",
      "model_module_version": "1.0.0",
      "model_name": "LayoutModel",
      "state": {}
     },
     "5bf7fa24f8ed4bd1b9d61dd239d580e6": {
      "model_module": "@jupyter-widgets/controls",
      "model_module_version": "1.2.0",
      "model_name": "ToggleButtonModel",
      "state": {
       "description": "C",
       "layout": "IPY_MODEL_2666ecafaf44400bbc1f145111daa975",
       "style": "IPY_MODEL_53c8e23aa16f45c98be11828e45bf872"
      }
     },
     "5bf8d11ac0194dcc81fcdb6be7a98ebf": {
      "model_module": "@jupyter-widgets/controls",
      "model_module_version": "1.2.0",
      "model_name": "HBoxModel",
      "state": {
       "children": [
        "IPY_MODEL_2abdc96669334bbebbd1ca3698a74e22",
        "IPY_MODEL_a7a80ff7ee4e4f178c6f26f503676a44"
       ],
       "layout": "IPY_MODEL_292e5a8e43ca42738b42f7b6e47d3c03"
      }
     },
     "5c12ab7a03fe444981bea2aab8e46878": {
      "model_module": "@jupyter-widgets/controls",
      "model_module_version": "1.2.0",
      "model_name": "DescriptionStyleModel",
      "state": {
       "description_width": ""
      }
     },
     "5c19153081ef43da8d201595743cb520": {
      "model_module": "@jupyter-widgets/controls",
      "model_module_version": "1.2.0",
      "model_name": "FloatSliderModel",
      "state": {
       "description": "Network density",
       "layout": "IPY_MODEL_7657e5fa0ed744bab4b9a85d87115599",
       "max": 15,
       "min": 4,
       "style": "IPY_MODEL_43bfdaac904549f1bdb7cb958de69577",
       "value": 8
      }
     },
     "5c42242d21c74240b31d78f8063982d1": {
      "model_module": "@jupyter-widgets/controls",
      "model_module_version": "1.2.0",
      "model_name": "VBoxModel",
      "state": {
       "children": [
        "IPY_MODEL_167898c2143d4787876137f8697011b3",
        "IPY_MODEL_9eb43a8782d043668a64d27fcbe9f5c7",
        "IPY_MODEL_2bb504a30fda44e39a19ac26ead29aae"
       ],
       "layout": "IPY_MODEL_af37f23f82dc4fa9848ae7204eeb4ab0"
      }
     },
     "5cea371517f6432ab7161c9661642268": {
      "model_module": "@jupyter-widgets/base",
      "model_module_version": "1.0.0",
      "model_name": "LayoutModel",
      "state": {}
     },
     "5d32d9ec2861465f82145025ce614fe3": {
      "model_module": "@jupyter-widgets/controls",
      "model_module_version": "1.2.0",
      "model_name": "SliderStyleModel",
      "state": {
       "description_width": "initial"
      }
     },
     "5d3c21301b78480e9266e92a0e2c832b": {
      "model_module": "@jupyter-widgets/base",
      "model_module_version": "1.0.0",
      "model_name": "LayoutModel",
      "state": {}
     },
     "5d6314f9ac4644ce877800f50f12eb47": {
      "model_module": "@jupyter-widgets/controls",
      "model_module_version": "1.2.0",
      "model_name": "DescriptionStyleModel",
      "state": {
       "description_width": ""
      }
     },
     "5ef4da5c647e45afaf7bd5aca7fab8af": {
      "model_module": "@jupyter-widgets/base",
      "model_module_version": "1.0.0",
      "model_name": "LayoutModel",
      "state": {}
     },
     "5f8a7a3a882742b49035918fd0fe4f1b": {
      "model_module": "@jupyter-widgets/controls",
      "model_module_version": "1.2.0",
      "model_name": "ToggleButtonModel",
      "state": {
       "description": "C",
       "layout": "IPY_MODEL_0cb74f3bed024c179afbb05bfc1ffa2d",
       "style": "IPY_MODEL_b0975cd9525b44f9b54b181df7f74c3f"
      }
     },
     "5f9b8d6bc0414bc99daf752dec381f99": {
      "model_module": "@jupyter-widgets/controls",
      "model_module_version": "1.2.0",
      "model_name": "ToggleButtonModel",
      "state": {
       "description": "D",
       "layout": "IPY_MODEL_42e17793e8c644b598a12b86aacb958d",
       "style": "IPY_MODEL_885232275beb420daa6eb95a662559fe"
      }
     },
     "61918c7ac85c41ccb06b6ec23fc3080b": {
      "model_module": "@jupyter-widgets/controls",
      "model_module_version": "1.2.0",
      "model_name": "FloatSliderModel",
      "state": {
       "description": "Network density",
       "layout": "IPY_MODEL_1cda42d56ba8423b94e936f8ad62b49a",
       "max": 15,
       "min": 4,
       "style": "IPY_MODEL_ae54806888e04a7680e94569234a1a64",
       "value": 8
      }
     },
     "629aaecfd18f4d74bc1db1f5bc223da9": {
      "model_module": "@jupyter-widgets/controls",
      "model_module_version": "1.2.0",
      "model_name": "DescriptionStyleModel",
      "state": {
       "description_width": ""
      }
     },
     "62a3f782fc484fb1b62410838f709889": {
      "model_module": "@jupyter-widgets/controls",
      "model_module_version": "1.2.0",
      "model_name": "SliderStyleModel",
      "state": {
       "description_width": "initial"
      }
     },
     "636e0de0c9664e1b9082736821d1e6d0": {
      "model_module": "@jupyter-widgets/base",
      "model_module_version": "1.0.0",
      "model_name": "LayoutModel",
      "state": {}
     },
     "63bc118a4640433c85ce65f9ae9d02e8": {
      "model_module": "@jupyter-widgets/controls",
      "model_module_version": "1.2.0",
      "model_name": "DescriptionStyleModel",
      "state": {
       "description_width": ""
      }
     },
     "6409b673a750437291c950a1c0264dee": {
      "model_module": "@jupyter-widgets/controls",
      "model_module_version": "1.2.0",
      "model_name": "DescriptionStyleModel",
      "state": {
       "description_width": ""
      }
     },
     "642b74eb10ee49328ce9797925ae9aa9": {
      "model_module": "@jupyter-widgets/controls",
      "model_module_version": "1.2.0",
      "model_name": "DescriptionStyleModel",
      "state": {
       "description_width": ""
      }
     },
     "64d4f19562f3423bb83a9eaa41295b0e": {
      "model_module": "@jupyter-widgets/controls",
      "model_module_version": "1.2.0",
      "model_name": "HTMLModel",
      "state": {
       "layout": "IPY_MODEL_659facc8ce144534b761ecf5bcdb8d78",
       "style": "IPY_MODEL_fa6d387fdec447d7bf8285a1852d6441",
       "value": "<b>Reference example:</b> (see Sec. II)"
      }
     },
     "652096d830dd4ffcad437b0e0d600606": {
      "model_module": "@jupyter-widgets/controls",
      "model_module_version": "1.2.0",
      "model_name": "FloatSliderModel",
      "state": {
       "description": "Network density",
       "layout": "IPY_MODEL_0b917b1b3196426d9ba58c716e6bb197",
       "max": 15,
       "min": 4,
       "style": "IPY_MODEL_b236e5c1dee94d85a394b96525b377da",
       "value": 8
      }
     },
     "659facc8ce144534b761ecf5bcdb8d78": {
      "model_module": "@jupyter-widgets/base",
      "model_module_version": "1.0.0",
      "model_name": "LayoutModel",
      "state": {}
     },
     "681270a2a8e64bbdb591411d26a14b7f": {
      "model_module": "@jupyter-widgets/base",
      "model_module_version": "1.0.0",
      "model_name": "LayoutModel",
      "state": {}
     },
     "682e82f1d1244cb5ab1c5ad73a546397": {
      "model_module": "@jupyter-widgets/controls",
      "model_module_version": "1.2.0",
      "model_name": "DescriptionStyleModel",
      "state": {
       "description_width": ""
      }
     },
     "6846b02c9c204b9587cbebf4828291ee": {
      "model_module": "@jupyter-widgets/base",
      "model_module_version": "1.0.0",
      "model_name": "LayoutModel",
      "state": {}
     },
     "691a3cd7cd8d449b8071791dbe256784": {
      "model_module": "@jupyter-widgets/controls",
      "model_module_version": "1.2.0",
      "model_name": "HTMLModel",
      "state": {
       "layout": "IPY_MODEL_fb25aca9cbe846cd8740ef9e131ef94c",
       "style": "IPY_MODEL_629aaecfd18f4d74bc1db1f5bc223da9",
       "value": "<h4>Deployment parameters</h4>"
      }
     },
     "69610da6a43140cc9777a45d4e4bd3bf": {
      "model_module": "@jupyter-widgets/base",
      "model_module_version": "1.0.0",
      "model_name": "LayoutModel",
      "state": {}
     },
     "69c534cde1a94feeaec71c69af7a497b": {
      "model_module": "@jupyter-widgets/controls",
      "model_module_version": "1.2.0",
      "model_name": "ToggleButtonModel",
      "state": {
       "description": "C",
       "layout": "IPY_MODEL_7ff039e7bf844d7581906bb1cb347e61",
       "style": "IPY_MODEL_8805d62e62a3406f9a2a05c3ffec987e"
      }
     },
     "6caffcd85ef24337ab6720696353d002": {
      "model_module": "@jupyter-widgets/controls",
      "model_module_version": "1.2.0",
      "model_name": "FloatSliderModel",
      "state": {
       "description": "Network density",
       "layout": "IPY_MODEL_69610da6a43140cc9777a45d4e4bd3bf",
       "max": 15,
       "min": 4,
       "style": "IPY_MODEL_cc190f048ee2409395f79de2308493ef",
       "value": 8
      }
     },
     "6f3d74b7908141f5b6628f4df1e3cb67": {
      "model_module": "@jupyter-widgets/controls",
      "model_module_version": "1.2.0",
      "model_name": "SliderStyleModel",
      "state": {
       "description_width": "initial"
      }
     },
     "700f464f05c24a2cbf7f6b7178f40ce8": {
      "model_module": "@jupyter-widgets/controls",
      "model_module_version": "1.2.0",
      "model_name": "VBoxModel",
      "state": {
       "children": [
        "IPY_MODEL_92b36ab8220f4cef8187278096b73120",
        "IPY_MODEL_7cc5d27f16d4485ea632335f770f3870",
        "IPY_MODEL_24d8caeda1f84bd0b07bcd10d2a94322",
        "IPY_MODEL_2261fb151c5144538f9ae0408f07bc2b"
       ],
       "layout": "IPY_MODEL_3ad3f656095b408c851285856ac5dd48"
      }
     },
     "7192f7982b844e628921e5488a6d8c0a": {
      "model_module": "@jupyter-widgets/controls",
      "model_module_version": "1.2.0",
      "model_name": "DescriptionStyleModel",
      "state": {
       "description_width": ""
      }
     },
     "71c94df6818645e4903e0accf2e0dde0": {
      "model_module": "@jupyter-widgets/base",
      "model_module_version": "1.0.0",
      "model_name": "LayoutModel",
      "state": {}
     },
     "7225be7f50184cafb6b1c010a245568d": {
      "model_module": "@jupyter-widgets/controls",
      "model_module_version": "1.2.0",
      "model_name": "IntSliderModel",
      "state": {
       "description": "Payload size (bytes)",
       "layout": "IPY_MODEL_5d3c21301b78480e9266e92a0e2c832b",
       "max": 48,
       "min": 1,
       "style": "IPY_MODEL_a2e9e05e3a5442ceacc3461a034a663d",
       "value": 32
      }
     },
     "725446af0a2c4a2c867d7d52e72b3d46": {
      "model_module": "@jupyter-widgets/controls",
      "model_module_version": "1.2.0",
      "model_name": "HTMLModel",
      "state": {
       "layout": "IPY_MODEL_3c51f65adb0144ef94387e70a45b5b25",
       "style": "IPY_MODEL_bcb4dd8df64c407284ff7d5e4f768dc2",
       "value": "\n    <table style=\"border-color: black; border: 1px solid black; \">\n        <tr style=\"border: 1px solid black;\"> <th style=\"padding: 10px; border: 1px solid black;\">      </th><th style=\"padding: 10px; border: 1px solid black;\">Required memory</th><th style=\"padding: 10px; border: 1px solid black;\">Computation cost   </th> </tr>\n        <tr style=\"border: 1px solid black;\"> <th style=\"padding: 10px; border: 1px solid black;\"> GPSR </th><td style=\"padding: 10px; border: 1px solid black;\"> <span style=\"color:green; background-color: #ffffff; font-weight:bold;\">88.0</span> B   </td><td style=\"padding: 10px; border: 1px solid black;\"> <span style=\"color:green; background-color: #ffffff; font-weight:bold;\">6.75</span> J  </td></tr>\n        <tr style=\"border: 1px solid black;\"> <th style=\"padding: 10px; border: 1px solid black;\"> MPR  </th><td style=\"padding: 10px; border: 1px solid black;\"> 400 B    </td><td style=\"padding: 10px; border: 1px solid black;\"> 8.78 J   </td></tr>\n    </table>"
      }
     },
     "72fa5acecdde473590985e9d1fc8951f": {
      "model_module": "@jupyter-widgets/base",
      "model_module_version": "1.0.0",
      "model_name": "LayoutModel",
      "state": {}
     },
     "73607daa9b794997a408c4bba1d2cc7f": {
      "model_module": "@jupyter-widgets/base",
      "model_module_version": "1.0.0",
      "model_name": "LayoutModel",
      "state": {}
     },
     "73bef4573cd04830b17013d87e96215c": {
      "model_module": "@jupyter-widgets/controls",
      "model_module_version": "1.2.0",
      "model_name": "IntSliderModel",
      "state": {
       "description": "Payload size (bytes)",
       "layout": "IPY_MODEL_da4c6643a6e84000bfd01c55ce44d3ec",
       "max": 48,
       "min": 1,
       "style": "IPY_MODEL_0efdf896ec3a48ea9968e47e1e859d3c",
       "value": 32
      }
     },
     "743554e2f9214d93ab3ff3061c1638ce": {
      "model_module": "@jupyter-widgets/controls",
      "model_module_version": "1.2.0",
      "model_name": "HTMLModel",
      "state": {
       "layout": "IPY_MODEL_29d6c6e6bd3441efbf28b6e3100148ea",
       "style": "IPY_MODEL_0cf1640801fe435ca6e023a5c26f5f9d",
       "value": "<h4>Deployment parameters</h4>"
      }
     },
     "761e2858271b40ff92a7672cc5a6e4a5": {
      "model_module": "@jupyter-widgets/controls",
      "model_module_version": "1.2.0",
      "model_name": "ToggleButtonModel",
      "state": {
       "description": "D",
       "layout": "IPY_MODEL_e2c800d29c574858834044b170c89dbf",
       "style": "IPY_MODEL_17c39bf552934970bacbcfdcff6a9563"
      }
     },
     "7657e5fa0ed744bab4b9a85d87115599": {
      "model_module": "@jupyter-widgets/base",
      "model_module_version": "1.0.0",
      "model_name": "LayoutModel",
      "state": {}
     },
     "77758c994c4f4adf87423ab3ab51d22d": {
      "model_module": "@jupyter-widgets/base",
      "model_module_version": "1.0.0",
      "model_name": "LayoutModel",
      "state": {}
     },
     "77920c7e77f340058c5ea53df14a003a": {
      "model_module": "@jupyter-widgets/output",
      "model_module_version": "1.0.0",
      "model_name": "OutputModel",
      "state": {
       "layout": "IPY_MODEL_27ac70f635a44b428f1121ee12e174a7",
       "outputs": [
        {
         "data": {
          "application/vnd.jupyter.widget-view+json": {
           "model_id": "458bd59d00694a80bec372d81906f342",
           "version_major": 2,
           "version_minor": 0
          },
          "text/plain": "HTML(value='<h4>Results</h4>')"
         },
         "metadata": {},
         "output_type": "display_data"
        },
        {
         "data": {
          "application/vnd.jupyter.widget-view+json": {
           "model_id": "725446af0a2c4a2c867d7d52e72b3d46",
           "version_major": 2,
           "version_minor": 0
          },
          "text/plain": "HTML(value='\\n    <table style=\"border-color: black; border: 1px solid black; \">\\n        <tr style=\"border: 1…"
         },
         "metadata": {},
         "output_type": "display_data"
        }
       ]
      }
     },
     "77b688cc0bf347c6950a71bc9642cb82": {
      "model_module": "@jupyter-widgets/controls",
      "model_module_version": "1.2.0",
      "model_name": "DescriptionStyleModel",
      "state": {
       "description_width": ""
      }
     },
     "78b1436c1c0547859c04530482e88e6a": {
      "model_module": "@jupyter-widgets/controls",
      "model_module_version": "1.2.0",
      "model_name": "SliderStyleModel",
      "state": {
       "description_width": "initial"
      }
     },
     "7a65a0b53b9242bca5d84946215ebdf5": {
      "model_module": "@jupyter-widgets/controls",
      "model_module_version": "1.2.0",
      "model_name": "HTMLModel",
      "state": {
       "layout": "IPY_MODEL_25bec83f3cbf46409c897d4779c80d54",
       "style": "IPY_MODEL_04e1f9dc017d48c481058ae5e27ca35d",
       "value": "<b>Reference example:</b> (see Sec. II)"
      }
     },
     "7af232e673dc4cafa398a413a7ff0468": {
      "model_module": "@jupyter-widgets/controls",
      "model_module_version": "1.2.0",
      "model_name": "DropdownModel",
      "state": {
       "_options_labels": [
        "1",
        "2",
        "4",
        "8"
       ],
       "description": "$s_{loc}$ (bytes)",
       "index": 3,
       "layout": "IPY_MODEL_2ef00990261d4d039bbca2149c4073b3",
       "style": "IPY_MODEL_14d5b3f7254c410ca582fbad93b3495c"
      }
     },
     "7c6340d22a9843d5a82fd7e567cbc152": {
      "model_module": "@jupyter-widgets/controls",
      "model_module_version": "1.2.0",
      "model_name": "DescriptionStyleModel",
      "state": {
       "description_width": ""
      }
     },
     "7c8b0b3c47a141d583f3c5dfee05d525": {
      "model_module": "@jupyter-widgets/base",
      "model_module_version": "1.0.0",
      "model_name": "LayoutModel",
      "state": {}
     },
     "7cc5d27f16d4485ea632335f770f3870": {
      "model_module": "@jupyter-widgets/controls",
      "model_module_version": "1.2.0",
      "model_name": "HBoxModel",
      "state": {
       "children": [
        "IPY_MODEL_6caffcd85ef24337ab6720696353d002",
        "IPY_MODEL_42a23fb1904c40f8a3221fa3a934ff7f",
        "IPY_MODEL_904b8c56b96f472689898f5e1dfbc80c"
       ],
       "layout": "IPY_MODEL_b18b6efacc124063b20bc4ca4a031a59"
      }
     },
     "7f571113409b4db3aa84b68e97669d56": {
      "model_module": "@jupyter-widgets/controls",
      "model_module_version": "1.2.0",
      "model_name": "HBoxModel",
      "state": {
       "children": [
        "IPY_MODEL_8552ae9aa8be494f9c7f76178481a630",
        "IPY_MODEL_92d30c09c5644e71ab49c4da322a405f"
       ],
       "layout": "IPY_MODEL_ee82e43232d54fdabdec8200cd572160"
      }
     },
     "7fa73f5dd6334871b2be4bf0337898b8": {
      "model_module": "@jupyter-widgets/base",
      "model_module_version": "1.0.0",
      "model_name": "LayoutModel",
      "state": {}
     },
     "7ff039e7bf844d7581906bb1cb347e61": {
      "model_module": "@jupyter-widgets/base",
      "model_module_version": "1.0.0",
      "model_name": "LayoutModel",
      "state": {}
     },
     "8056f18a020a4912a195ce5b38556856": {
      "model_module": "@jupyter-widgets/controls",
      "model_module_version": "1.2.0",
      "model_name": "DescriptionStyleModel",
      "state": {
       "description_width": ""
      }
     },
     "828170c8d4d145e199cfb1040b77b675": {
      "model_module": "@jupyter-widgets/base",
      "model_module_version": "1.0.0",
      "model_name": "LayoutModel",
      "state": {}
     },
     "8552ae9aa8be494f9c7f76178481a630": {
      "model_module": "@jupyter-widgets/controls",
      "model_module_version": "1.2.0",
      "model_name": "IntSliderModel",
      "state": {
       "description": "Payload size (bytes)",
       "layout": "IPY_MODEL_01bbec7b8a92464d83e226d5b2259f67",
       "max": 48,
       "min": 1,
       "style": "IPY_MODEL_62a3f782fc484fb1b62410838f709889",
       "value": 32
      }
     },
     "871fa0e215c347f48f86b4af38159239": {
      "model_module": "@jupyter-widgets/controls",
      "model_module_version": "1.2.0",
      "model_name": "DescriptionStyleModel",
      "state": {
       "description_width": ""
      }
     },
     "878fca34b085431f9f3bff3bad2da280": {
      "model_module": "@jupyter-widgets/controls",
      "model_module_version": "1.2.0",
      "model_name": "HTMLModel",
      "state": {
       "layout": "IPY_MODEL_87af1ae213db40b7abdeef710edf1a16",
       "style": "IPY_MODEL_3c3afff2c73b49359b1844e401f46264",
       "value": "<h4>Results</h4>"
      }
     },
     "87af1ae213db40b7abdeef710edf1a16": {
      "model_module": "@jupyter-widgets/base",
      "model_module_version": "1.0.0",
      "model_name": "LayoutModel",
      "state": {}
     },
     "87c65cce18204f548645b4a0ef25d121": {
      "model_module": "@jupyter-widgets/output",
      "model_module_version": "1.0.0",
      "model_name": "OutputModel",
      "state": {
       "layout": "IPY_MODEL_ffff598e1d94431584f170b1367c1d27",
       "outputs": [
        {
         "data": {
          "application/vnd.jupyter.widget-view+json": {
           "model_id": "9a0456bd16e548758615db003198c65f",
           "version_major": 2,
           "version_minor": 0
          },
          "text/plain": "HTML(value='<h4>Results</h4>')"
         },
         "metadata": {},
         "output_type": "display_data"
        },
        {
         "name": "stdout",
         "output_type": "stream",
         "text": "Energy cost of forwarding an Interest/Data exchange for MPR: 1108.9724825503667J\nEnergy cost of forwarding an Interest/Data exchange for GPSR: 1135.8314121668614J\nMPR is more efficient by 2.42%\n"
        },
        {
         "data": {
          "text/plain": "<Figure size 640x480 with 1 Axes>"
         },
         "metadata": {},
         "output_type": "display_data"
        }
       ]
      }
     },
     "87d53ce8e5c34fc0b1b75a2d12e40ced": {
      "model_module": "@jupyter-widgets/controls",
      "model_module_version": "1.2.0",
      "model_name": "HBoxModel",
      "state": {
       "children": [
        "IPY_MODEL_652096d830dd4ffcad437b0e0d600606",
        "IPY_MODEL_d725c6916c2b41ca9c1e7a10c9f1337a",
        "IPY_MODEL_23b9ead70f70445f80c959c6d5709483"
       ],
       "layout": "IPY_MODEL_004a660116d84cd38b142e4fc1536d6a"
      }
     },
     "8805d62e62a3406f9a2a05c3ffec987e": {
      "model_module": "@jupyter-widgets/controls",
      "model_module_version": "1.2.0",
      "model_name": "DescriptionStyleModel",
      "state": {
       "description_width": ""
      }
     },
     "883e26b50cc2441d8af12896d85c256b": {
      "model_module": "@jupyter-widgets/controls",
      "model_module_version": "1.2.0",
      "model_name": "ToggleButtonModel",
      "state": {
       "description": "B",
       "layout": "IPY_MODEL_1495b0b1635d4f86bc2017661f353ea0",
       "style": "IPY_MODEL_d0f6f465886647f4868d73d531aee059"
      }
     },
     "885232275beb420daa6eb95a662559fe": {
      "model_module": "@jupyter-widgets/controls",
      "model_module_version": "1.2.0",
      "model_name": "DescriptionStyleModel",
      "state": {
       "description_width": ""
      }
     },
     "88a9d014449a4eadae3ccd94211edd0b": {
      "model_module": "@jupyter-widgets/controls",
      "model_module_version": "1.2.0",
      "model_name": "DescriptionStyleModel",
      "state": {
       "description_width": ""
      }
     },
     "88ec04525f73424eaf623aaae2b55fa7": {
      "model_module": "@jupyter-widgets/controls",
      "model_module_version": "1.2.0",
      "model_name": "ToggleButtonModel",
      "state": {
       "description": "C",
       "layout": "IPY_MODEL_414eaab4a26e4990a00e6328890ab5e0",
       "style": "IPY_MODEL_5d6314f9ac4644ce877800f50f12eb47"
      }
     },
     "898b30f5161d4839aaa434d74c036ceb": {
      "model_module": "@jupyter-widgets/controls",
      "model_module_version": "1.2.0",
      "model_name": "DescriptionStyleModel",
      "state": {
       "description_width": ""
      }
     },
     "89e13e245dcf4d8988e3844dd4b814c1": {
      "model_module": "@jupyter-widgets/base",
      "model_module_version": "1.0.0",
      "model_name": "LayoutModel",
      "state": {}
     },
     "8a9cb2da811741569ff605b7c57ab5f4": {
      "model_module": "@jupyter-widgets/controls",
      "model_module_version": "1.2.0",
      "model_name": "ToggleButtonModel",
      "state": {
       "description": "D",
       "layout": "IPY_MODEL_e71535ed05884688b42e94968aabd575",
       "style": "IPY_MODEL_9d3c3b436902421584df8b7ea6312eff"
      }
     },
     "8b29bb2202994a73a6a10069f1bf58ae": {
      "model_module": "@jupyter-widgets/output",
      "model_module_version": "1.0.0",
      "model_name": "OutputModel",
      "state": {
       "layout": "IPY_MODEL_a3bd35c49ec2401eb0d905c110c1b08f",
       "outputs": [
        {
         "data": {
          "application/vnd.jupyter.widget-view+json": {
           "model_id": "4ffe6df07d07483fa453be41a86da10d",
           "version_major": 2,
           "version_minor": 0
          },
          "text/plain": "HTML(value='<h4>Results</h4>')"
         },
         "metadata": {},
         "output_type": "display_data"
        },
        {
         "name": "stdout",
         "output_type": "stream",
         "text": "Message budget with MPR: 6244805 messages\nMessage budget with geographic forwarding: 6277729 messages\n"
        },
        {
         "data": {
          "application/vnd.jupyter.widget-view+json": {
           "model_id": "2ced92ebdb35435980ef706bb1336b54",
           "version_major": 2,
           "version_minor": 0
          },
          "text/plain": "HTML(value='<b>Geographic forwarding</b> is the most efficient in these settings by 0.52%')"
         },
         "metadata": {},
         "output_type": "display_data"
        }
       ]
      }
     },
     "8c78a7f22dc74b09ba9bc86558792477": {
      "model_module": "@jupyter-widgets/base",
      "model_module_version": "1.0.0",
      "model_name": "LayoutModel",
      "state": {}
     },
     "8cdddffa9113418b88ab90badc48e1bd": {
      "model_module": "@jupyter-widgets/controls",
      "model_module_version": "1.2.0",
      "model_name": "ToggleButtonModel",
      "state": {
       "description": "A",
       "layout": "IPY_MODEL_1f17d91f1984424084ce12e4b98da403",
       "style": "IPY_MODEL_af5df374015542e2bcba0a0078655cf9"
      }
     },
     "8d7896e8ab7f443a93269e35c5718583": {
      "model_module": "@jupyter-widgets/output",
      "model_module_version": "1.0.0",
      "model_name": "OutputModel",
      "state": {
       "layout": "IPY_MODEL_9edb58d1c43442b0a899e19c5ebbb9fd",
       "outputs": [
        {
         "data": {
          "image/png": "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\n",
          "text/plain": "<Figure size 432x288 with 1 Axes>"
         },
         "metadata": {},
         "output_type": "display_data"
        }
       ]
      }
     },
     "8e197e49ddd340a79b50ff70c863a516": {
      "model_module": "@jupyter-widgets/base",
      "model_module_version": "1.0.0",
      "model_name": "LayoutModel",
      "state": {}
     },
     "8ed70b1948bf46debe20bada7edc03e4": {
      "model_module": "@jupyter-widgets/base",
      "model_module_version": "1.0.0",
      "model_name": "LayoutModel",
      "state": {}
     },
     "8efc7bf714c74b7aa610d397bf14f398": {
      "model_module": "@jupyter-widgets/base",
      "model_module_version": "1.0.0",
      "model_name": "LayoutModel",
      "state": {}
     },
     "8ff568b6c58746d7bc6db5f1757a0913": {
      "model_module": "@jupyter-widgets/controls",
      "model_module_version": "1.2.0",
      "model_name": "DescriptionStyleModel",
      "state": {
       "description_width": ""
      }
     },
     "9033cd9a2103402b9e537c8fbe08d620": {
      "model_module": "@jupyter-widgets/base",
      "model_module_version": "1.0.0",
      "model_name": "LayoutModel",
      "state": {}
     },
     "9039e7a5a4054a0d820334d698070ea7": {
      "model_module": "@jupyter-widgets/controls",
      "model_module_version": "1.2.0",
      "model_name": "DropdownModel",
      "state": {
       "_options_labels": [
        "1",
        "2",
        "4",
        "8"
       ],
       "description": "$s_{loc}$ (bytes)",
       "index": 3,
       "layout": "IPY_MODEL_a352bd9adecb44e9a0f4659fc24f94d6",
       "style": "IPY_MODEL_7192f7982b844e628921e5488a6d8c0a"
      }
     },
     "904b8c56b96f472689898f5e1dfbc80c": {
      "model_module": "@jupyter-widgets/controls",
      "model_module_version": "1.2.0",
      "model_name": "FloatTextModel",
      "state": {
       "description": "Change frequency",
       "layout": "IPY_MODEL_6846b02c9c204b9587cbebf4828291ee",
       "step": null,
       "style": "IPY_MODEL_061d28fc21754e619a01e868e8cab1e2",
       "value": 60
      }
     },
     "915fbf62e55f44efaf1375257ef479b5": {
      "model_module": "@jupyter-widgets/controls",
      "model_module_version": "1.2.0",
      "model_name": "IntSliderModel",
      "state": {
       "description": "Payload size (bytes)",
       "layout": "IPY_MODEL_3c990885bf4b4a6e83f7b33dbf9d2cc3",
       "max": 48,
       "min": 1,
       "style": "IPY_MODEL_34ac3132bbdb4e7b91b3c4b06d4b8b3e",
       "value": 32
      }
     },
     "926ebfc937994a8a951bc1667982c0d5": {
      "model_module": "@jupyter-widgets/controls",
      "model_module_version": "1.2.0",
      "model_name": "SliderStyleModel",
      "state": {
       "description_width": "initial"
      }
     },
     "92b36ab8220f4cef8187278096b73120": {
      "model_module": "@jupyter-widgets/controls",
      "model_module_version": "1.2.0",
      "model_name": "HTMLModel",
      "state": {
       "layout": "IPY_MODEL_ac6f15d332dc417f96e00faf2d7eec82",
       "style": "IPY_MODEL_c55724776efe488ebe0dc7246e24d39b",
       "value": "<h4>Deployment parameters</h4>"
      }
     },
     "92d30c09c5644e71ab49c4da322a405f": {
      "model_module": "@jupyter-widgets/controls",
      "model_module_version": "1.2.0",
      "model_name": "DropdownModel",
      "state": {
       "_options_labels": [
        "1",
        "2",
        "4",
        "8"
       ],
       "description": "$s_{loc}$ (bytes)",
       "index": 3,
       "layout": "IPY_MODEL_0633466aea5b49d98d3125d5dc454405",
       "style": "IPY_MODEL_05ee0d781b8e4e2896d63949304b1bf9"
      }
     },
     "948ae740ae1f4374b442bb36573352df": {
      "model_module": "@jupyter-widgets/controls",
      "model_module_version": "1.2.0",
      "model_name": "ToggleButtonModel",
      "state": {
       "description": "A",
       "layout": "IPY_MODEL_7c8b0b3c47a141d583f3c5dfee05d525",
       "style": "IPY_MODEL_bd352ee27dfe4371af739025b3ca9ce1"
      }
     },
     "94bcff1db056448bb5c7e0365ba9a4cd": {
      "model_module": "@jupyter-widgets/controls",
      "model_module_version": "1.2.0",
      "model_name": "HTMLModel",
      "state": {
       "layout": "IPY_MODEL_154f12ee91f6475c89c746d30e4b5ebc",
       "style": "IPY_MODEL_bc5ed59a5e1b4ac986a733bef482e46a",
       "value": "<b>Reference example:</b> (see Sec. II)"
      }
     },
     "94ffda05aa3a48c694e32e44c4738c68": {
      "model_module": "@jupyter-widgets/base",
      "model_module_version": "1.0.0",
      "model_name": "LayoutModel",
      "state": {}
     },
     "951c395707694632aa7835bb4a53f785": {
      "model_module": "@jupyter-widgets/controls",
      "model_module_version": "1.2.0",
      "model_name": "HBoxModel",
      "state": {
       "children": [
        "IPY_MODEL_73bef4573cd04830b17013d87e96215c",
        "IPY_MODEL_7af232e673dc4cafa398a413a7ff0468"
       ],
       "layout": "IPY_MODEL_73607daa9b794997a408c4bba1d2cc7f"
      }
     },
     "958ae03653ba480b9223c19c49b9111d": {
      "model_module": "@jupyter-widgets/controls",
      "model_module_version": "1.2.0",
      "model_name": "DescriptionStyleModel",
      "state": {
       "description_width": ""
      }
     },
     "970ed9e872d540628867204e19cdd8e2": {
      "model_module": "@jupyter-widgets/controls",
      "model_module_version": "1.2.0",
      "model_name": "SliderStyleModel",
      "state": {
       "description_width": "initial"
      }
     },
     "9759318c4c1f4f99b0423931e7da01e0": {
      "model_module": "@jupyter-widgets/controls",
      "model_module_version": "1.2.0",
      "model_name": "VBoxModel",
      "state": {
       "children": [
        "IPY_MODEL_691a3cd7cd8d449b8071791dbe256784",
        "IPY_MODEL_d8997b69fe0b46e8a8e0087d4967bf3d",
        "IPY_MODEL_d741cffdbcc2433ba5834ea0673b0fae",
        "IPY_MODEL_c406f1939c0b4e628fc7f92c1c285885",
        "IPY_MODEL_9f59f2484b434a7090e8d6b15d115aba"
       ],
       "layout": "IPY_MODEL_50149fa410704b9296a9e4fbd055db90"
      }
     },
     "97c6379587f14bfc8bf94afb2d887058": {
      "model_module": "@jupyter-widgets/controls",
      "model_module_version": "1.2.0",
      "model_name": "ToggleButtonModel",
      "state": {
       "description": "B",
       "layout": "IPY_MODEL_be812eb49e6940e1848273920909b0c4",
       "style": "IPY_MODEL_45affdbdfbae4d99a8e36926f536165d"
      }
     },
     "981e363cbf8b451b8bd0612a0ffc4c70": {
      "model_module": "@jupyter-widgets/output",
      "model_module_version": "1.0.0",
      "model_name": "OutputModel",
      "state": {
       "layout": "IPY_MODEL_94ffda05aa3a48c694e32e44c4738c68",
       "outputs": [
        {
         "data": {
          "image/png": "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\n",
          "text/plain": "<Figure size 432x288 with 1 Axes>"
         },
         "metadata": {},
         "output_type": "display_data"
        }
       ]
      }
     },
     "98de1239a5e449ef9d606962201a7796": {
      "model_module": "@jupyter-widgets/controls",
      "model_module_version": "1.2.0",
      "model_name": "HTMLModel",
      "state": {
       "layout": "IPY_MODEL_a43a6f92422444e4913acde1b53837b4",
       "style": "IPY_MODEL_3214c563b24b4796839c8216e5d678e0",
       "value": "<h4>Deployment parameters</h4>"
      }
     },
     "9a0456bd16e548758615db003198c65f": {
      "model_module": "@jupyter-widgets/controls",
      "model_module_version": "1.2.0",
      "model_name": "HTMLModel",
      "state": {
       "layout": "IPY_MODEL_5a16d271392e4480b95c5cb93438f944",
       "style": "IPY_MODEL_1a891e1b2f7b4546b9e11ce38a6322bf",
       "value": "<h4>Results</h4>"
      }
     },
     "9c7ff845f32d401fb49a6c6d05bece0c": {
      "model_module": "@jupyter-widgets/base",
      "model_module_version": "1.0.0",
      "model_name": "LayoutModel",
      "state": {}
     },
     "9cb7476967754c889983a6ccac53bec7": {
      "model_module": "@jupyter-widgets/controls",
      "model_module_version": "1.2.0",
      "model_name": "ToggleButtonModel",
      "state": {
       "description": "A",
       "layout": "IPY_MODEL_d7c69abe9f69462abcaf74bdce5bf26b",
       "style": "IPY_MODEL_fe6b6c5f1a6b461d85bb4752ef0ad5a2"
      }
     },
     "9ce25e88384e43aebd87dd264a19d21f": {
      "model_module": "@jupyter-widgets/base",
      "model_module_version": "1.0.0",
      "model_name": "LayoutModel",
      "state": {}
     },
     "9cf4bbee33bd4968bd9b8a3b7ecc0852": {
      "model_module": "@jupyter-widgets/base",
      "model_module_version": "1.0.0",
      "model_name": "LayoutModel",
      "state": {}
     },
     "9d1f56fcef61460992ab7ad7187d5d4d": {
      "model_module": "@jupyter-widgets/output",
      "model_module_version": "1.0.0",
      "model_name": "OutputModel",
      "state": {
       "layout": "IPY_MODEL_c509234328284a47b302a3bd53b64422",
       "outputs": [
        {
         "data": {
          "application/vnd.jupyter.widget-view+json": {
           "model_id": "d1c28705c87f49a79077cbb0d7ba1b45",
           "version_major": 2,
           "version_minor": 0
          },
          "text/plain": "HTML(value='<h4>Results</h4>')"
         },
         "metadata": {},
         "output_type": "display_data"
        },
        {
         "name": "stdout",
         "output_type": "stream",
         "text": "Energy cost of forwarding an Interest/Data exchange for MPR: 1108.9724825503667J\nEnergy cost of forwarding an Interest/Data exchange for GPSR: 1135.8314121668614J\nMPR is more efficient by 2.42%\n"
        },
        {
         "data": {
          "image/png": "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\n",
          "text/plain": "<Figure size 432x288 with 1 Axes>"
         },
         "metadata": {},
         "output_type": "display_data"
        }
       ]
      }
     },
     "9d3c3b436902421584df8b7ea6312eff": {
      "model_module": "@jupyter-widgets/controls",
      "model_module_version": "1.2.0",
      "model_name": "DescriptionStyleModel",
      "state": {
       "description_width": ""
      }
     },
     "9d4171e02df94b2eadc3251ea0718af9": {
      "model_module": "@jupyter-widgets/controls",
      "model_module_version": "1.2.0",
      "model_name": "ToggleButtonModel",
      "state": {
       "description": "A",
       "layout": "IPY_MODEL_828170c8d4d145e199cfb1040b77b675",
       "style": "IPY_MODEL_4dbeb9efb80b420db0ef51711372e15b"
      }
     },
     "9eb43a8782d043668a64d27fcbe9f5c7": {
      "model_module": "@jupyter-widgets/controls",
      "model_module_version": "1.2.0",
      "model_name": "HBoxModel",
      "state": {
       "children": [
        "IPY_MODEL_5c19153081ef43da8d201595743cb520",
        "IPY_MODEL_d85c3f69665a44c4951e8e042e367a8a",
        "IPY_MODEL_02e9006763564fbeb8f00469df9e2d24"
       ],
       "layout": "IPY_MODEL_a9b5f7eab53f43da879e5458a2bfcf42"
      }
     },
     "9edb58d1c43442b0a899e19c5ebbb9fd": {
      "model_module": "@jupyter-widgets/base",
      "model_module_version": "1.0.0",
      "model_name": "LayoutModel",
      "state": {}
     },
     "9edfaecd65984895b7da2b2d38496228": {
      "model_module": "@jupyter-widgets/controls",
      "model_module_version": "1.2.0",
      "model_name": "ToggleButtonModel",
      "state": {
       "description": "A",
       "layout": "IPY_MODEL_fc8cef7296ea4b9c927d3b5ee6241d1e",
       "style": "IPY_MODEL_8056f18a020a4912a195ce5b38556856"
      }
     },
     "9f59f2484b434a7090e8d6b15d115aba": {
      "model_module": "@jupyter-widgets/controls",
      "model_module_version": "1.2.0",
      "model_name": "HBoxModel",
      "state": {
       "children": [
        "IPY_MODEL_64d4f19562f3423bb83a9eaa41295b0e",
        "IPY_MODEL_8cdddffa9113418b88ab90badc48e1bd",
        "IPY_MODEL_08f1355d65614b7e958ea9261b7f745c",
        "IPY_MODEL_d3e23f52199f4bd3850e6244c29ea17f",
        "IPY_MODEL_8a9cb2da811741569ff605b7c57ab5f4"
       ],
       "layout": "IPY_MODEL_77758c994c4f4adf87423ab3ab51d22d"
      }
     },
     "9f73a5ab70204ea6b469a640976a1163": {
      "model_module": "@jupyter-widgets/controls",
      "model_module_version": "1.2.0",
      "model_name": "FloatTextModel",
      "state": {
       "description": "Change frequency",
       "disabled": true,
       "layout": "IPY_MODEL_595c1aca9f244225a5616e5196a3a9df",
       "step": null,
       "style": "IPY_MODEL_c3153fb8c41544b09a5a1e415f163cdb",
       "value": 60
      }
     },
     "a03b7c29daa64f8584ae0d42fe8a8a1a": {
      "model_module": "@jupyter-widgets/controls",
      "model_module_version": "1.2.0",
      "model_name": "SliderStyleModel",
      "state": {
       "description_width": "initial"
      }
     },
     "a04de675922248acadc8ebf5e5d60b7e": {
      "model_module": "@jupyter-widgets/base",
      "model_module_version": "1.0.0",
      "model_name": "LayoutModel",
      "state": {}
     },
     "a2e9e05e3a5442ceacc3461a034a663d": {
      "model_module": "@jupyter-widgets/controls",
      "model_module_version": "1.2.0",
      "model_name": "SliderStyleModel",
      "state": {
       "description_width": "initial"
      }
     },
     "a352bd9adecb44e9a0f4659fc24f94d6": {
      "model_module": "@jupyter-widgets/base",
      "model_module_version": "1.0.0",
      "model_name": "LayoutModel",
      "state": {}
     },
     "a3bd35c49ec2401eb0d905c110c1b08f": {
      "model_module": "@jupyter-widgets/base",
      "model_module_version": "1.0.0",
      "model_name": "LayoutModel",
      "state": {}
     },
     "a3d509b0f30c4975bc130d069b3575ae": {
      "model_module": "@jupyter-widgets/controls",
      "model_module_version": "1.2.0",
      "model_name": "FloatSliderModel",
      "state": {
       "description": "Network density",
       "layout": "IPY_MODEL_d3718cf2c7dd44f796f76e4b09c3f7b5",
       "max": 15,
       "min": 4,
       "style": "IPY_MODEL_ef0d93e5652a4a50ab94ea82226e5939",
       "value": 8
      }
     },
     "a43a6f92422444e4913acde1b53837b4": {
      "model_module": "@jupyter-widgets/base",
      "model_module_version": "1.0.0",
      "model_name": "LayoutModel",
      "state": {}
     },
     "a44fd837d1cc4227b030bbca4a8b585c": {
      "model_module": "@jupyter-widgets/controls",
      "model_module_version": "1.2.0",
      "model_name": "ToggleButtonModel",
      "state": {
       "description": "B",
       "layout": "IPY_MODEL_8c78a7f22dc74b09ba9bc86558792477",
       "style": "IPY_MODEL_88a9d014449a4eadae3ccd94211edd0b"
      }
     },
     "a56f405934ab4423a7d91a484c92c203": {
      "model_module": "@jupyter-widgets/controls",
      "model_module_version": "1.2.0",
      "model_name": "FloatSliderModel",
      "state": {
       "description": "Network density",
       "layout": "IPY_MODEL_d384d37c476e4415b7487418358debe9",
       "max": 15,
       "min": 4,
       "style": "IPY_MODEL_970ed9e872d540628867204e19cdd8e2",
       "value": 8
      }
     },
     "a5b86813a3c742ec8e832ca6cb135eec": {
      "model_module": "@jupyter-widgets/controls",
      "model_module_version": "1.2.0",
      "model_name": "ToggleButtonModel",
      "state": {
       "description": "D",
       "layout": "IPY_MODEL_2b3e07417d824135b673b87c666c57f2",
       "style": "IPY_MODEL_20a9c211be614d40a5e8567a54dbcfb4"
      }
     },
     "a6e5caf5840c44588b7615df9e403d4e": {
      "model_module": "@jupyter-widgets/base",
      "model_module_version": "1.0.0",
      "model_name": "LayoutModel",
      "state": {}
     },
     "a7a80ff7ee4e4f178c6f26f503676a44": {
      "model_module": "@jupyter-widgets/controls",
      "model_module_version": "1.2.0",
      "model_name": "IntSliderModel",
      "state": {
       "description": "Number of nodes",
       "layout": "IPY_MODEL_4ca6773f47e74747985cb447eb8d63c6",
       "max": 2000,
       "min": 10,
       "style": "IPY_MODEL_a03b7c29daa64f8584ae0d42fe8a8a1a",
       "value": 100
      }
     },
     "a7e6196b548b45e5b777a90329d3e5c2": {
      "model_module": "@jupyter-widgets/base",
      "model_module_version": "1.0.0",
      "model_name": "LayoutModel",
      "state": {}
     },
     "a85c20e477d547e7af2a5a07b2645382": {
      "model_module": "@jupyter-widgets/base",
      "model_module_version": "1.0.0",
      "model_name": "LayoutModel",
      "state": {}
     },
     "a8e6fa41f4b84fd1bc44bf03c4de332e": {
      "model_module": "@jupyter-widgets/controls",
      "model_module_version": "1.2.0",
      "model_name": "IntSliderModel",
      "state": {
       "description": "Avg hop count",
       "layout": "IPY_MODEL_d69013b2a833481a93d6d950c330d635",
       "max": 14,
       "min": 1,
       "style": "IPY_MODEL_78b1436c1c0547859c04530482e88e6a",
       "value": 4
      }
     },
     "a8f82d0c84a549a4a857b1096d66c88c": {
      "model_module": "@jupyter-widgets/controls",
      "model_module_version": "1.2.0",
      "model_name": "DropdownModel",
      "state": {
       "_options_labels": [
        "Network density",
        "Number of nodes",
        "Change frequency",
        "Average hop count",
        "Payload size",
        "Coordinates size"
       ],
       "description": "Parameter to vary",
       "index": 2,
       "layout": "IPY_MODEL_b2e4dee97b3d4eda8ec52cd447bb5d97",
       "style": "IPY_MODEL_adb0a68a796c46fe8db171606aec1cbd"
      }
     },
     "a9450cbd72d34eb4ae75a5480cefd4f6": {
      "model_module": "@jupyter-widgets/controls",
      "model_module_version": "1.2.0",
      "model_name": "DescriptionStyleModel",
      "state": {
       "description_width": ""
      }
     },
     "a9b5f7eab53f43da879e5458a2bfcf42": {
      "model_module": "@jupyter-widgets/base",
      "model_module_version": "1.0.0",
      "model_name": "LayoutModel",
      "state": {}
     },
     "aa31b4f76a4a44f1a519f228e919f032": {
      "model_module": "@jupyter-widgets/controls",
      "model_module_version": "1.2.0",
      "model_name": "ToggleButtonModel",
      "state": {
       "description": "C",
       "layout": "IPY_MODEL_ea2fdc5bcc29433eae9febdc5f8978a5",
       "style": "IPY_MODEL_c0689bb81637499883a9602db8381bf8"
      }
     },
     "abe5db68756f437ebc730a0ec146d564": {
      "model_module": "@jupyter-widgets/output",
      "model_module_version": "1.0.0",
      "model_name": "OutputModel",
      "state": {
       "layout": "IPY_MODEL_2162e5aea2ba4516bb43c88c6f120e3a",
       "outputs": [
        {
         "data": {
          "application/vnd.jupyter.widget-view+json": {
           "model_id": "ee68f5a7f2164c79861d8be2343f7a27",
           "version_major": 2,
           "version_minor": 0
          },
          "text/plain": "HTML(value='<h4>Results</h4>')"
         },
         "metadata": {},
         "output_type": "display_data"
        },
        {
         "data": {
          "application/vnd.jupyter.widget-view+json": {
           "model_id": "e8b3d3e438c347839bb6f52f34c140f4",
           "version_major": 2,
           "version_minor": 0
          },
          "text/plain": "HTML(value='\\n    <table style=\"border-color: black; border: 1px solid black; \">\\n        <tr style=\"border: 1…"
         },
         "metadata": {},
         "output_type": "display_data"
        }
       ]
      }
     },
     "ac6f15d332dc417f96e00faf2d7eec82": {
      "model_module": "@jupyter-widgets/base",
      "model_module_version": "1.0.0",
      "model_name": "LayoutModel",
      "state": {}
     },
     "acc93762d6f346eba3ea26b551dc4af8": {
      "model_module": "@jupyter-widgets/controls",
      "model_module_version": "1.2.0",
      "model_name": "ToggleButtonModel",
      "state": {
       "description": "D",
       "layout": "IPY_MODEL_febd7d776f9448a387311e724daf7562",
       "style": "IPY_MODEL_958ae03653ba480b9223c19c49b9111d"
      }
     },
     "adb0a68a796c46fe8db171606aec1cbd": {
      "model_module": "@jupyter-widgets/controls",
      "model_module_version": "1.2.0",
      "model_name": "DescriptionStyleModel",
      "state": {
       "description_width": ""
      }
     },
     "ae54806888e04a7680e94569234a1a64": {
      "model_module": "@jupyter-widgets/controls",
      "model_module_version": "1.2.0",
      "model_name": "SliderStyleModel",
      "state": {
       "description_width": "initial"
      }
     },
     "af272e5cb9734e259917320793c0c14e": {
      "model_module": "@jupyter-widgets/base",
      "model_module_version": "1.0.0",
      "model_name": "LayoutModel",
      "state": {}
     },
     "af37f23f82dc4fa9848ae7204eeb4ab0": {
      "model_module": "@jupyter-widgets/base",
      "model_module_version": "1.0.0",
      "model_name": "LayoutModel",
      "state": {}
     },
     "af5df374015542e2bcba0a0078655cf9": {
      "model_module": "@jupyter-widgets/controls",
      "model_module_version": "1.2.0",
      "model_name": "DescriptionStyleModel",
      "state": {
       "description_width": ""
      }
     },
     "b083d182d92a4486b2dc6093675af4ec": {
      "model_module": "@jupyter-widgets/base",
      "model_module_version": "1.0.0",
      "model_name": "LayoutModel",
      "state": {}
     },
     "b0975cd9525b44f9b54b181df7f74c3f": {
      "model_module": "@jupyter-widgets/controls",
      "model_module_version": "1.2.0",
      "model_name": "DescriptionStyleModel",
      "state": {
       "description_width": ""
      }
     },
     "b18b6efacc124063b20bc4ca4a031a59": {
      "model_module": "@jupyter-widgets/base",
      "model_module_version": "1.0.0",
      "model_name": "LayoutModel",
      "state": {}
     },
     "b19dfa58496742079889cba6b4b93b80": {
      "model_module": "@jupyter-widgets/base",
      "model_module_version": "1.0.0",
      "model_name": "LayoutModel",
      "state": {}
     },
     "b1b30fcb026e4c2db21b84a987bba4b5": {
      "model_module": "@jupyter-widgets/base",
      "model_module_version": "1.0.0",
      "model_name": "LayoutModel",
      "state": {}
     },
     "b22a6d026c744c708546f945bc6064ba": {
      "model_module": "@jupyter-widgets/controls",
      "model_module_version": "1.2.0",
      "model_name": "DescriptionStyleModel",
      "state": {
       "description_width": ""
      }
     },
     "b236e5c1dee94d85a394b96525b377da": {
      "model_module": "@jupyter-widgets/controls",
      "model_module_version": "1.2.0",
      "model_name": "SliderStyleModel",
      "state": {
       "description_width": "initial"
      }
     },
     "b2e4dee97b3d4eda8ec52cd447bb5d97": {
      "model_module": "@jupyter-widgets/base",
      "model_module_version": "1.0.0",
      "model_name": "LayoutModel",
      "state": {}
     },
     "b31b77a9374c4efcb5cac5ddd5f1f5af": {
      "model_module": "@jupyter-widgets/controls",
      "model_module_version": "1.2.0",
      "model_name": "HBoxModel",
      "state": {
       "children": [
        "IPY_MODEL_2fb183480aec412f95c48b164982cd4c",
        "IPY_MODEL_f506d83a31e54d83832bffba86715c8d",
        "IPY_MODEL_c0ae89f19a784b3292332bd008d058cb"
       ],
       "layout": "IPY_MODEL_5bb7d83ea8d647b3bee662884d5909d9"
      }
     },
     "b339c74ed3e3428ea3adc6a23840dc54": {
      "model_module": "@jupyter-widgets/controls",
      "model_module_version": "1.2.0",
      "model_name": "HBoxModel",
      "state": {
       "children": [
        "IPY_MODEL_52b7a663adc84aa79d56e4f2a907e72d",
        "IPY_MODEL_948ae740ae1f4374b442bb36573352df",
        "IPY_MODEL_40df2ddb245e44138dbfa70ec3128ed4",
        "IPY_MODEL_88ec04525f73424eaf623aaae2b55fa7",
        "IPY_MODEL_162500e8d8914db281ef2662b882e98b"
       ],
       "layout": "IPY_MODEL_e173b50e735145e68469121730aeba72"
      }
     },
     "b47a92e5a07d4da4ac00f7578aab26c9": {
      "model_module": "@jupyter-widgets/controls",
      "model_module_version": "1.2.0",
      "model_name": "DescriptionStyleModel",
      "state": {
       "description_width": ""
      }
     },
     "b4e3972f771646ccb5c2deb77f71718d": {
      "model_module": "@jupyter-widgets/controls",
      "model_module_version": "1.2.0",
      "model_name": "HTMLModel",
      "state": {
       "layout": "IPY_MODEL_c536ca744e3048d1b8f8d6e6b01cb2ed",
       "style": "IPY_MODEL_c930dff9cd0a480aabccadf048dda183",
       "value": "<b>Reference example:</b> (see Sec. II)"
      }
     },
     "b646b1b6405f41ad827c6d45b543b800": {
      "model_module": "@jupyter-widgets/controls",
      "model_module_version": "1.2.0",
      "model_name": "SliderStyleModel",
      "state": {
       "description_width": "initial"
      }
     },
     "b7e43151e10447b5af7b5cbdc4318f5a": {
      "model_module": "@jupyter-widgets/controls",
      "model_module_version": "1.2.0",
      "model_name": "IntSliderModel",
      "state": {
       "description": "Avg hop count",
       "layout": "IPY_MODEL_0d668f2491134307a6d2d4987a3e76c0",
       "max": 14,
       "min": 1,
       "style": "IPY_MODEL_5d32d9ec2861465f82145025ce614fe3",
       "value": 4
      }
     },
     "b8cadaaf584a470c9410384cbb1cf39a": {
      "model_module": "@jupyter-widgets/controls",
      "model_module_version": "1.2.0",
      "model_name": "DescriptionStyleModel",
      "state": {
       "description_width": ""
      }
     },
     "b9b53653b37b4a80855e312f63040ff7": {
      "model_module": "@jupyter-widgets/controls",
      "model_module_version": "1.2.0",
      "model_name": "ToggleButtonModel",
      "state": {
       "description": "B",
       "layout": "IPY_MODEL_1c4532ec8f51495ea380c12877b9f6c7",
       "style": "IPY_MODEL_b47a92e5a07d4da4ac00f7578aab26c9"
      }
     },
     "bc5ed59a5e1b4ac986a733bef482e46a": {
      "model_module": "@jupyter-widgets/controls",
      "model_module_version": "1.2.0",
      "model_name": "DescriptionStyleModel",
      "state": {
       "description_width": ""
      }
     },
     "bcb4dd8df64c407284ff7d5e4f768dc2": {
      "model_module": "@jupyter-widgets/controls",
      "model_module_version": "1.2.0",
      "model_name": "DescriptionStyleModel",
      "state": {
       "description_width": ""
      }
     },
     "bd2d923ea66e43ba8da41a25b5fd1300": {
      "model_module": "@jupyter-widgets/controls",
      "model_module_version": "1.2.0",
      "model_name": "ToggleButtonModel",
      "state": {
       "description": "B",
       "layout": "IPY_MODEL_b083d182d92a4486b2dc6093675af4ec",
       "style": "IPY_MODEL_3bc0eec1720b4393afd7cf7ba547cd9e"
      }
     },
     "bd352ee27dfe4371af739025b3ca9ce1": {
      "model_module": "@jupyter-widgets/controls",
      "model_module_version": "1.2.0",
      "model_name": "DescriptionStyleModel",
      "state": {
       "description_width": ""
      }
     },
     "be812eb49e6940e1848273920909b0c4": {
      "model_module": "@jupyter-widgets/base",
      "model_module_version": "1.0.0",
      "model_name": "LayoutModel",
      "state": {}
     },
     "bea439f5ec384250832effacc886ef4b": {
      "model_module": "@jupyter-widgets/controls",
      "model_module_version": "1.2.0",
      "model_name": "HBoxModel",
      "state": {
       "children": [
        "IPY_MODEL_a56f405934ab4423a7d91a484c92c203",
        "IPY_MODEL_d2ec781a59fb462d9f696cc0b917c1d1",
        "IPY_MODEL_9f73a5ab70204ea6b469a640976a1163"
       ],
       "layout": "IPY_MODEL_044518695f804e93a771837c2da6b7e3"
      }
     },
     "bfa5d50e0ae849b3b1e69b49bcc9e503": {
      "model_module": "@jupyter-widgets/controls",
      "model_module_version": "1.2.0",
      "model_name": "ToggleButtonModel",
      "state": {
       "description": "A",
       "layout": "IPY_MODEL_5cea371517f6432ab7161c9661642268",
       "style": "IPY_MODEL_d0028b1eab52452cbebfd8ae61083205"
      }
     },
     "bfc07a75384c4c01b84864106a2eb798": {
      "model_module": "@jupyter-widgets/base",
      "model_module_version": "1.0.0",
      "model_name": "LayoutModel",
      "state": {}
     },
     "c0689bb81637499883a9602db8381bf8": {
      "model_module": "@jupyter-widgets/controls",
      "model_module_version": "1.2.0",
      "model_name": "DescriptionStyleModel",
      "state": {
       "description_width": ""
      }
     },
     "c0ad1e741bd14c0f99fffb30263fdb12": {
      "model_module": "@jupyter-widgets/controls",
      "model_module_version": "1.2.0",
      "model_name": "DescriptionStyleModel",
      "state": {
       "description_width": ""
      }
     },
     "c0ae89f19a784b3292332bd008d058cb": {
      "model_module": "@jupyter-widgets/controls",
      "model_module_version": "1.2.0",
      "model_name": "DropdownModel",
      "state": {
       "_options_labels": [
        "1",
        "2",
        "4",
        "8"
       ],
       "description": "$s_{loc}$ (bytes)",
       "index": 3,
       "layout": "IPY_MODEL_e07b651962c842608daef5dd50c87a1c",
       "style": "IPY_MODEL_492232f9573b46c29194147ff2e60dd2"
      }
     },
     "c30b81c81d434574a83b4f3227f59ca4": {
      "model_module": "@jupyter-widgets/controls",
      "model_module_version": "1.2.0",
      "model_name": "IntSliderModel",
      "state": {
       "description": "Number of nodes",
       "layout": "IPY_MODEL_31a82f02fbfb475b965ce96d267d9701",
       "max": 2000,
       "min": 10,
       "style": "IPY_MODEL_2a83d83e99064d27909fad21084537f1",
       "value": 100
      }
     },
     "c3153fb8c41544b09a5a1e415f163cdb": {
      "model_module": "@jupyter-widgets/controls",
      "model_module_version": "1.2.0",
      "model_name": "DescriptionStyleModel",
      "state": {
       "description_width": "initial"
      }
     },
     "c406f1939c0b4e628fc7f92c1c285885": {
      "model_module": "@jupyter-widgets/controls",
      "model_module_version": "1.2.0",
      "model_name": "HBoxModel",
      "state": {
       "children": [
        "IPY_MODEL_59997e94009a470ebe61264c6550f1a3",
        "IPY_MODEL_915fbf62e55f44efaf1375257ef479b5",
        "IPY_MODEL_35bd0771119c45f5ba56167fd92a7c04"
       ],
       "layout": "IPY_MODEL_8e197e49ddd340a79b50ff70c863a516"
      }
     },
     "c449783da4e84433a21d9fc27eec9872": {
      "model_module": "@jupyter-widgets/controls",
      "model_module_version": "1.2.0",
      "model_name": "IntSliderModel",
      "state": {
       "description": "Number of nodes",
       "layout": "IPY_MODEL_21300a072ccd41fbaad3b419e46d5fdf",
       "max": 2000,
       "min": 10,
       "style": "IPY_MODEL_926ebfc937994a8a951bc1667982c0d5",
       "value": 100
      }
     },
     "c509234328284a47b302a3bd53b64422": {
      "model_module": "@jupyter-widgets/base",
      "model_module_version": "1.0.0",
      "model_name": "LayoutModel",
      "state": {}
     },
     "c536ca744e3048d1b8f8d6e6b01cb2ed": {
      "model_module": "@jupyter-widgets/base",
      "model_module_version": "1.0.0",
      "model_name": "LayoutModel",
      "state": {}
     },
     "c5444101c9484217b38e6384564cb672": {
      "model_module": "@jupyter-widgets/controls",
      "model_module_version": "1.2.0",
      "model_name": "DescriptionStyleModel",
      "state": {
       "description_width": ""
      }
     },
     "c55724776efe488ebe0dc7246e24d39b": {
      "model_module": "@jupyter-widgets/controls",
      "model_module_version": "1.2.0",
      "model_name": "DescriptionStyleModel",
      "state": {
       "description_width": ""
      }
     },
     "c5e3c0184af74603b9b5f1b7509a32af": {
      "model_module": "@jupyter-widgets/controls",
      "model_module_version": "1.2.0",
      "model_name": "ToggleButtonModel",
      "state": {
       "description": "A",
       "layout": "IPY_MODEL_e40a431161fc4ccda9325b75908b676a",
       "style": "IPY_MODEL_f834c2054364496f8830eb75ae5f101e"
      }
     },
     "c64017e45dd44a75bfc3d201fcfb5f00": {
      "model_module": "@jupyter-widgets/base",
      "model_module_version": "1.0.0",
      "model_name": "LayoutModel",
      "state": {}
     },
     "c890dfd78f9346cdabfa7b979f665235": {
      "model_module": "@jupyter-widgets/controls",
      "model_module_version": "1.2.0",
      "model_name": "HTMLModel",
      "state": {
       "layout": "IPY_MODEL_360151ad5b714daab0ce0c3d8dd2e900",
       "style": "IPY_MODEL_871fa0e215c347f48f86b4af38159239",
       "value": "<b>Geographic forwarding</b> is the most efficient in these settings by 0.52%"
      }
     },
     "c930dff9cd0a480aabccadf048dda183": {
      "model_module": "@jupyter-widgets/controls",
      "model_module_version": "1.2.0",
      "model_name": "DescriptionStyleModel",
      "state": {
       "description_width": ""
      }
     },
     "c95ea6ea2ae44567b97acdf49d6fa8c5": {
      "model_module": "@jupyter-widgets/base",
      "model_module_version": "1.0.0",
      "model_name": "LayoutModel",
      "state": {}
     },
     "c9df9a0a58634e538871396a0fd00c86": {
      "model_module": "@jupyter-widgets/controls",
      "model_module_version": "1.2.0",
      "model_name": "DescriptionStyleModel",
      "state": {
       "description_width": ""
      }
     },
     "cc190f048ee2409395f79de2308493ef": {
      "model_module": "@jupyter-widgets/controls",
      "model_module_version": "1.2.0",
      "model_name": "SliderStyleModel",
      "state": {
       "description_width": "initial"
      }
     },
     "d0028b1eab52452cbebfd8ae61083205": {
      "model_module": "@jupyter-widgets/controls",
      "model_module_version": "1.2.0",
      "model_name": "DescriptionStyleModel",
      "state": {
       "description_width": ""
      }
     },
     "d0f6f465886647f4868d73d531aee059": {
      "model_module": "@jupyter-widgets/controls",
      "model_module_version": "1.2.0",
      "model_name": "DescriptionStyleModel",
      "state": {
       "description_width": ""
      }
     },
     "d1c28705c87f49a79077cbb0d7ba1b45": {
      "model_module": "@jupyter-widgets/controls",
      "model_module_version": "1.2.0",
      "model_name": "HTMLModel",
      "state": {
       "layout": "IPY_MODEL_a04de675922248acadc8ebf5e5d60b7e",
       "style": "IPY_MODEL_b22a6d026c744c708546f945bc6064ba",
       "value": "<h4>Results</h4>"
      }
     },
     "d2b4bdd81174464a9d8301d1d59af509": {
      "model_module": "@jupyter-widgets/base",
      "model_module_version": "1.0.0",
      "model_name": "LayoutModel",
      "state": {}
     },
     "d2ec781a59fb462d9f696cc0b917c1d1": {
      "model_module": "@jupyter-widgets/controls",
      "model_module_version": "1.2.0",
      "model_name": "IntSliderModel",
      "state": {
       "description": "Number of nodes",
       "layout": "IPY_MODEL_8ed70b1948bf46debe20bada7edc03e4",
       "max": 2000,
       "min": 10,
       "style": "IPY_MODEL_b646b1b6405f41ad827c6d45b543b800",
       "value": 100
      }
     },
     "d3718cf2c7dd44f796f76e4b09c3f7b5": {
      "model_module": "@jupyter-widgets/base",
      "model_module_version": "1.0.0",
      "model_name": "LayoutModel",
      "state": {}
     },
     "d384d37c476e4415b7487418358debe9": {
      "model_module": "@jupyter-widgets/base",
      "model_module_version": "1.0.0",
      "model_name": "LayoutModel",
      "state": {}
     },
     "d3e23f52199f4bd3850e6244c29ea17f": {
      "model_module": "@jupyter-widgets/controls",
      "model_module_version": "1.2.0",
      "model_name": "ToggleButtonModel",
      "state": {
       "description": "C",
       "layout": "IPY_MODEL_1f815f265c0a473fb2f7766d61f55f3b",
       "style": "IPY_MODEL_1513f1d889ec4be19831b546e3812103"
      }
     },
     "d48b42c3d3564b48bef9373542406a43": {
      "model_module": "@jupyter-widgets/controls",
      "model_module_version": "1.2.0",
      "model_name": "ToggleButtonModel",
      "state": {
       "description": "D",
       "layout": "IPY_MODEL_e193aa16f1cb4603a52d5f979ef3ce29",
       "style": "IPY_MODEL_131ce33d60d84e30854f49a0752eac31"
      }
     },
     "d69013b2a833481a93d6d950c330d635": {
      "model_module": "@jupyter-widgets/base",
      "model_module_version": "1.0.0",
      "model_name": "LayoutModel",
      "state": {}
     },
     "d725c6916c2b41ca9c1e7a10c9f1337a": {
      "model_module": "@jupyter-widgets/controls",
      "model_module_version": "1.2.0",
      "model_name": "IntSliderModel",
      "state": {
       "description": "Number of nodes",
       "layout": "IPY_MODEL_9ce25e88384e43aebd87dd264a19d21f",
       "max": 2000,
       "min": 10,
       "style": "IPY_MODEL_1fe553316890471d81f788e63f5d9164",
       "value": 100
      }
     },
     "d741cffdbcc2433ba5834ea0673b0fae": {
      "model_module": "@jupyter-widgets/controls",
      "model_module_version": "1.2.0",
      "model_name": "HBoxModel",
      "state": {
       "children": [
        "IPY_MODEL_61918c7ac85c41ccb06b6ec23fc3080b",
        "IPY_MODEL_c30b81c81d434574a83b4f3227f59ca4",
        "IPY_MODEL_36434f11e7514aeab13d8c3742282079"
       ],
       "layout": "IPY_MODEL_89e13e245dcf4d8988e3844dd4b814c1"
      }
     },
     "d7c69abe9f69462abcaf74bdce5bf26b": {
      "model_module": "@jupyter-widgets/base",
      "model_module_version": "1.0.0",
      "model_name": "LayoutModel",
      "state": {}
     },
     "d85c3f69665a44c4951e8e042e367a8a": {
      "model_module": "@jupyter-widgets/controls",
      "model_module_version": "1.2.0",
      "model_name": "IntSliderModel",
      "state": {
       "description": "Number of nodes",
       "layout": "IPY_MODEL_e7b400cdedd54ce2ad68d03839b8f29a",
       "max": 2000,
       "min": 10,
       "style": "IPY_MODEL_1881854519fe4819aee0280005774780",
       "value": 100
      }
     },
     "d8997b69fe0b46e8a8e0087d4967bf3d": {
      "model_module": "@jupyter-widgets/controls",
      "model_module_version": "1.2.0",
      "model_name": "HBoxModel",
      "state": {
       "children": [
        "IPY_MODEL_a8f82d0c84a549a4a857b1096d66c88c"
       ],
       "layout": "IPY_MODEL_4bc6ac9d6d074ba98a57c48420031c94"
      }
     },
     "d9b8fd5f480b49eb96bf374aeb62a09a": {
      "model_module": "@jupyter-widgets/base",
      "model_module_version": "1.0.0",
      "model_name": "LayoutModel",
      "state": {}
     },
     "da01e52ff34a483eb68823299026f599": {
      "model_module": "@jupyter-widgets/base",
      "model_module_version": "1.0.0",
      "model_name": "LayoutModel",
      "state": {}
     },
     "da4c6643a6e84000bfd01c55ce44d3ec": {
      "model_module": "@jupyter-widgets/base",
      "model_module_version": "1.0.0",
      "model_name": "LayoutModel",
      "state": {}
     },
     "da7741a8d3454dc19cc6a95f195104ae": {
      "model_module": "@jupyter-widgets/base",
      "model_module_version": "1.0.0",
      "model_name": "LayoutModel",
      "state": {}
     },
     "dae5178cb77148d59fad9018584da1c9": {
      "model_module": "@jupyter-widgets/controls",
      "model_module_version": "1.2.0",
      "model_name": "IntSliderModel",
      "state": {
       "description": "Avg hop count",
       "layout": "IPY_MODEL_efb53848072d4a01b2250d9366eaef56",
       "max": 14,
       "min": 1,
       "style": "IPY_MODEL_073e0b41340d40fca8cd77bd22fbca70",
       "value": 4
      }
     },
     "de6e645e66874febafcabff4ef91ae27": {
      "model_module": "@jupyter-widgets/controls",
      "model_module_version": "1.2.0",
      "model_name": "HBoxModel",
      "state": {
       "children": [
        "IPY_MODEL_7a65a0b53b9242bca5d84946215ebdf5",
        "IPY_MODEL_bfa5d50e0ae849b3b1e69b49bcc9e503",
        "IPY_MODEL_a44fd837d1cc4227b030bbca4a8b585c",
        "IPY_MODEL_3d109c699e514298bcb279046a6225ce",
        "IPY_MODEL_d48b42c3d3564b48bef9373542406a43"
       ],
       "layout": "IPY_MODEL_01943df680d4441db8285049595ff7eb"
      }
     },
     "dfea85f4385841dcae51acdaa80025c7": {
      "model_module": "@jupyter-widgets/controls",
      "model_module_version": "1.2.0",
      "model_name": "DescriptionStyleModel",
      "state": {
       "description_width": ""
      }
     },
     "e07b651962c842608daef5dd50c87a1c": {
      "model_module": "@jupyter-widgets/base",
      "model_module_version": "1.0.0",
      "model_name": "LayoutModel",
      "state": {}
     },
     "e0d53637a6a2451aa058a7a750b534c5": {
      "model_module": "@jupyter-widgets/controls",
      "model_module_version": "1.2.0",
      "model_name": "DescriptionStyleModel",
      "state": {
       "description_width": ""
      }
     },
     "e173b50e735145e68469121730aeba72": {
      "model_module": "@jupyter-widgets/base",
      "model_module_version": "1.0.0",
      "model_name": "LayoutModel",
      "state": {}
     },
     "e193aa16f1cb4603a52d5f979ef3ce29": {
      "model_module": "@jupyter-widgets/base",
      "model_module_version": "1.0.0",
      "model_name": "LayoutModel",
      "state": {}
     },
     "e2aebf5431f94cfd88361ef48e9bd0e8": {
      "model_module": "@jupyter-widgets/base",
      "model_module_version": "1.0.0",
      "model_name": "LayoutModel",
      "state": {}
     },
     "e2c800d29c574858834044b170c89dbf": {
      "model_module": "@jupyter-widgets/base",
      "model_module_version": "1.0.0",
      "model_name": "LayoutModel",
      "state": {}
     },
     "e40a431161fc4ccda9325b75908b676a": {
      "model_module": "@jupyter-widgets/base",
      "model_module_version": "1.0.0",
      "model_name": "LayoutModel",
      "state": {}
     },
     "e5a7b89193c44fe1acfa49bdf3f3b615": {
      "model_module": "@jupyter-widgets/controls",
      "model_module_version": "1.2.0",
      "model_name": "SliderStyleModel",
      "state": {
       "description_width": "initial"
      }
     },
     "e71535ed05884688b42e94968aabd575": {
      "model_module": "@jupyter-widgets/base",
      "model_module_version": "1.0.0",
      "model_name": "LayoutModel",
      "state": {}
     },
     "e7b400cdedd54ce2ad68d03839b8f29a": {
      "model_module": "@jupyter-widgets/base",
      "model_module_version": "1.0.0",
      "model_name": "LayoutModel",
      "state": {}
     },
     "e8b3d3e438c347839bb6f52f34c140f4": {
      "model_module": "@jupyter-widgets/controls",
      "model_module_version": "1.2.0",
      "model_name": "HTMLModel",
      "state": {
       "layout": "IPY_MODEL_31dfb9a2fd0144cfa4a6559f02b58b9f",
       "style": "IPY_MODEL_642b74eb10ee49328ce9797925ae9aa9",
       "value": "\n    <table style=\"border-color: black; border: 1px solid black; \">\n        <tr style=\"border: 1px solid black;\"> <th style=\"padding: 10px; border: 1px solid black;\">      </th><th style=\"padding: 10px; border: 1px solid black;\">Required memory</th><th style=\"padding: 10px; border: 1px solid black;\">Computation cost   </th> </tr>\n        <tr style=\"border: 1px solid black;\"> <th style=\"padding: 10px; border: 1px solid black;\"> GPSR </th><td style=\"padding: 10px; border: 1px solid black;\"> <span style=\"color:green; background-color: #ffffff; font-weight:bold;\">88.0</span> B   </td><td style=\"padding: 10px; border: 1px solid black;\"> <span style=\"color:green; background-color: #ffffff; font-weight:bold;\">6.75</span> J  </td></tr>\n        <tr style=\"border: 1px solid black;\"> <th style=\"padding: 10px; border: 1px solid black;\"> MPR  </th><td style=\"padding: 10px; border: 1px solid black;\"> 400 B    </td><td style=\"padding: 10px; border: 1px solid black;\"> 8.78 J   </td></tr>\n    </table>"
      }
     },
     "e9a0461d27604547b78d72bd2adb1cba": {
      "model_module": "@jupyter-widgets/controls",
      "model_module_version": "1.2.0",
      "model_name": "SliderStyleModel",
      "state": {
       "description_width": "initial"
      }
     },
     "ea2fdc5bcc29433eae9febdc5f8978a5": {
      "model_module": "@jupyter-widgets/base",
      "model_module_version": "1.0.0",
      "model_name": "LayoutModel",
      "state": {}
     },
     "eca5a56c1e934fd784a77f2fdc1a872b": {
      "model_module": "@jupyter-widgets/base",
      "model_module_version": "1.0.0",
      "model_name": "LayoutModel",
      "state": {}
     },
     "eddd65116b824d45a9de86bf4db71332": {
      "model_module": "@jupyter-widgets/base",
      "model_module_version": "1.0.0",
      "model_name": "LayoutModel",
      "state": {}
     },
     "ee68f5a7f2164c79861d8be2343f7a27": {
      "model_module": "@jupyter-widgets/controls",
      "model_module_version": "1.2.0",
      "model_name": "HTMLModel",
      "state": {
       "layout": "IPY_MODEL_f084d691a1ae4ae29322f4661c79067a",
       "style": "IPY_MODEL_63bc118a4640433c85ce65f9ae9d02e8",
       "value": "<h4>Results</h4>"
      }
     },
     "ee7e7076a23f488cbadd41577261ae0f": {
      "model_module": "@jupyter-widgets/base",
      "model_module_version": "1.0.0",
      "model_name": "LayoutModel",
      "state": {}
     },
     "ee82e43232d54fdabdec8200cd572160": {
      "model_module": "@jupyter-widgets/base",
      "model_module_version": "1.0.0",
      "model_name": "LayoutModel",
      "state": {}
     },
     "ef0d93e5652a4a50ab94ea82226e5939": {
      "model_module": "@jupyter-widgets/controls",
      "model_module_version": "1.2.0",
      "model_name": "SliderStyleModel",
      "state": {
       "description_width": "initial"
      }
     },
     "ef67b9b91a1242518add045710beb026": {
      "model_module": "@jupyter-widgets/controls",
      "model_module_version": "1.2.0",
      "model_name": "VBoxModel",
      "state": {
       "children": [
        "IPY_MODEL_743554e2f9214d93ab3ff3061c1638ce",
        "IPY_MODEL_38d5104ce88842e7b2808d00c9e55121",
        "IPY_MODEL_951c395707694632aa7835bb4a53f785",
        "IPY_MODEL_08a721ffdc8a4f1f942a1b47a9b8ee45"
       ],
       "layout": "IPY_MODEL_35238a7cc46e432bb6c3286479969944"
      }
     },
     "efb53848072d4a01b2250d9366eaef56": {
      "model_module": "@jupyter-widgets/base",
      "model_module_version": "1.0.0",
      "model_name": "LayoutModel",
      "state": {}
     },
     "eff30e1e5ccf458ea53550528cfbf606": {
      "model_module": "@jupyter-widgets/controls",
      "model_module_version": "1.2.0",
      "model_name": "SliderStyleModel",
      "state": {
       "description_width": "initial"
      }
     },
     "f002d444a9d54285896faa3cbf2ca240": {
      "model_module": "@jupyter-widgets/base",
      "model_module_version": "1.0.0",
      "model_name": "LayoutModel",
      "state": {}
     },
     "f084d691a1ae4ae29322f4661c79067a": {
      "model_module": "@jupyter-widgets/base",
      "model_module_version": "1.0.0",
      "model_name": "LayoutModel",
      "state": {}
     },
     "f126283c7f5545c4a13703982db1dfb7": {
      "model_module": "@jupyter-widgets/base",
      "model_module_version": "1.0.0",
      "model_name": "LayoutModel",
      "state": {}
     },
     "f506d83a31e54d83832bffba86715c8d": {
      "model_module": "@jupyter-widgets/controls",
      "model_module_version": "1.2.0",
      "model_name": "IntSliderModel",
      "state": {
       "description": "Number of nodes",
       "layout": "IPY_MODEL_72fa5acecdde473590985e9d1fc8951f",
       "max": 2000,
       "min": 10,
       "style": "IPY_MODEL_5b39b631cf8743fe9632cab92f702e04",
       "value": 100
      }
     },
     "f5fb6b75743543b2b7493d450f4e3c1e": {
      "model_module": "@jupyter-widgets/base",
      "model_module_version": "1.0.0",
      "model_name": "LayoutModel",
      "state": {}
     },
     "f834c2054364496f8830eb75ae5f101e": {
      "model_module": "@jupyter-widgets/controls",
      "model_module_version": "1.2.0",
      "model_name": "DescriptionStyleModel",
      "state": {
       "description_width": ""
      }
     },
     "fa41c3077a81458486cff8170162f89d": {
      "model_module": "@jupyter-widgets/base",
      "model_module_version": "1.0.0",
      "model_name": "LayoutModel",
      "state": {}
     },
     "fa6d387fdec447d7bf8285a1852d6441": {
      "model_module": "@jupyter-widgets/controls",
      "model_module_version": "1.2.0",
      "model_name": "DescriptionStyleModel",
      "state": {
       "description_width": ""
      }
     },
     "fa8cfd8b63a146cbadca8bc146b00b5f": {
      "model_module": "@jupyter-widgets/controls",
      "model_module_version": "1.2.0",
      "model_name": "DescriptionStyleModel",
      "state": {
       "description_width": ""
      }
     },
     "fb25aca9cbe846cd8740ef9e131ef94c": {
      "model_module": "@jupyter-widgets/base",
      "model_module_version": "1.0.0",
      "model_name": "LayoutModel",
      "state": {}
     },
     "fc8cef7296ea4b9c927d3b5ee6241d1e": {
      "model_module": "@jupyter-widgets/base",
      "model_module_version": "1.0.0",
      "model_name": "LayoutModel",
      "state": {}
     },
     "fd1efd5877524e4eb9c50b4104b14d77": {
      "model_module": "@jupyter-widgets/controls",
      "model_module_version": "1.2.0",
      "model_name": "ToggleButtonModel",
      "state": {
       "description": "D",
       "layout": "IPY_MODEL_5ad5d0bfa14847378833588393167c7b",
       "style": "IPY_MODEL_7c6340d22a9843d5a82fd7e567cbc152"
      }
     },
     "fda77ae0e06542838a4addf184387a62": {
      "model_module": "@jupyter-widgets/base",
      "model_module_version": "1.0.0",
      "model_name": "LayoutModel",
      "state": {}
     },
     "fe6b6c5f1a6b461d85bb4752ef0ad5a2": {
      "model_module": "@jupyter-widgets/controls",
      "model_module_version": "1.2.0",
      "model_name": "DescriptionStyleModel",
      "state": {
       "description_width": ""
      }
     },
     "febd7d776f9448a387311e724daf7562": {
      "model_module": "@jupyter-widgets/base",
      "model_module_version": "1.0.0",
      "model_name": "LayoutModel",
      "state": {}
     },
     "ffff598e1d94431584f170b1367c1d27": {
      "model_module": "@jupyter-widgets/base",
      "model_module_version": "1.0.0",
      "model_name": "LayoutModel",
      "state": {}
     }
    },
    "version_major": 2,
    "version_minor": 0
   }
  }
 },
 "nbformat": 4,
 "nbformat_minor": 2
}
